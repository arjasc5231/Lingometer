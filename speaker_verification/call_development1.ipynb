{
  "cells": [
    {
      "cell_type": "code",
      "execution_count": null,
      "metadata": {
        "colab": {
          "background_save": true
        },
        "id": "qxykBDgyHZx0"
      },
      "outputs": [],
      "source": [
        "# drive mount. colab에 내 구글 드라이브 연결\n",
        "from google.colab import drive\n",
        "drive.mount('/content/drive')\n",
        "\n",
        "# import_ipynb module 설치\n",
        "!pip install import_ipynb &> /dev/null\n",
        "\n",
        "# import를 위한 경로이동\n",
        "%cd /content/drive/MyDrive/team_malmungchi/colab/speaker_verification/code\n",
        "import tensorflow as tf\n",
        "import import_ipynb\n",
        "import development"
      ]
    },
    {
      "cell_type": "code",
      "execution_count": null,
      "metadata": {
        "colab": {
          "background_save": true
        },
        "id": "TYpoBGh7HvB4"
      },
      "outputs": [],
      "source": [
        "development.train('arduino_CNN_small', 'simMat_batcher', 'simMat_loss', 'data/dataset/train_cpp_1581_200_49_40.pickle', hyper_params={'learning_rate':0.01}, saving_tag='output10')\n",
        "#development.train('arduino_CNN', 'naive_batcher', 'cross_entropy', 'data/dataset/train_cpp_1581_200_49_40.pickle', saving_tag='output10')\n",
        "#development.train('arduino_CNN', 'simMat_batcher', 'simMat_loss', 'data/dataset/train_cpp_1581_200_49_40.pickle', pre_checkpoint_dir='model/arduino_CNN-naive_batcher-cross_entropy-output10', hyper_params={'learning_rate':0.01}, saving_tag='output10')"
      ]
    }
  ],
  "metadata": {
    "accelerator": "GPU",
    "colab": {
      "machine_shape": "hm",
      "provenance": []
    },
    "gpuClass": "premium",
    "kernelspec": {
      "display_name": "Python 3",
      "name": "python3"
    },
    "language_info": {
      "name": "python"
    }
  },
  "nbformat": 4,
  "nbformat_minor": 0
}