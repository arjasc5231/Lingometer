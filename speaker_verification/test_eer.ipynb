{
  "cells": [
    {
      "cell_type": "code",
      "execution_count": null,
      "id": "f847b1e4",
      "metadata": {
        "id": "f847b1e4"
      },
      "outputs": [],
      "source": [
        "import numpy as np\n",
        "import os\n",
        "import pickle\n",
        "import random\n",
        "\n",
        "import import_ipynb\n",
        "from utils import *\n",
        "from constants import *\n",
        "from eval_metrics import calculate_eer\n",
        "import tensorflow as tf"
      ]
    },
    {
      "cell_type": "code",
      "source": [
        "def test_frame(model,dataset_path):\n",
        "  print('============================================')\n",
        "  print('start frame level test')\n",
        "\n",
        "  # load data\n",
        "  with open(dataset_path,\"rb\") as f: batchs = pickle.load(f)\n",
        "  \n",
        "  num_batch = batchs.shape[0]\n",
        "  BATCH_SIZE = NUM_ENROLL_UTT + NUM_TRUE_UTT + NUM_FALSE_UTT\n",
        "  true_score = []   # true 발화의 점수를 저장할 배열\n",
        "  false_score = []  # false 발화의 점수를 저장할 배열\n",
        "\n",
        "  batchs = np.concatenate(batchs)\n",
        "  pred = model.predict(batchs, verbose=0)\n",
        "  pred = normalize(pred)\n",
        "  del batchs\n",
        "\n",
        "  for i in range(num_batch):\n",
        "    enroll = pred[i*BATCH_SIZE:i*BATCH_SIZE+NUM_ENROLL_UTT]\n",
        "    enroll = normalize(np.mean(enroll, axis=0)) # 등록 발화를 평균\n",
        "\n",
        "    for j in range(NUM_TRUE_UTT): true_score.append(cosine_similarity(enroll,pred[i*BATCH_SIZE+NUM_ENROLL_UTT+j]))\n",
        "    for j in range(NUM_FALSE_UTT): false_score.append(cosine_similarity(enroll,pred[i*BATCH_SIZE+NUM_ENROLL_UTT+NUM_TRUE_UTT+j]))\n",
        "  \n",
        "  # calculate_eer함수의 인자로 알맞은 형태로 변환. true의 label에 1 표시해주기\n",
        "  scores = np.array(true_score+false_score)\n",
        "  labels = np.array([1.0]*len(true_score)+[0.0]*len(false_score))\n",
        "\n",
        "  # eer 계산\n",
        "  eer, thres = calculate_eer(np.arange(0, 1.0, 0.001), scores, labels, get_threshold=True)\n",
        "  print('EER:', eer, '  thres:',thres)"
      ],
      "metadata": {
        "id": "u__TgKc5rcGL"
      },
      "id": "u__TgKc5rcGL",
      "execution_count": null,
      "outputs": []
    },
    {
      "cell_type": "code",
      "source": [
        "def test_utt(model,dataset_path):\n",
        "  print('==================================================')\n",
        "  print('start utterence level test')\n",
        "  tf.config.run_functions_eagerly(True)\n",
        "\n",
        "  # load data\n",
        "  with open(dataset_path,\"rb\") as f: batchs = pickle.load(f)\n",
        "  \n",
        "  true_score = []   # true 발화의 점수를 저장할 배열\n",
        "  false_score = []  # false 발화의 점수를 저장할 배열\n",
        "\n",
        "  for batch in batchs:\n",
        "    d_vectors = []\n",
        "    for utt in batch:\n",
        "      specs = split_spec(utt, NUM_FRAME)\n",
        "      pred = model.predict(specs, verbose=0)\n",
        "      pred = normalize(pred)\n",
        "      d_vector = normalize(np.mean(pred, axis=0))\n",
        "      d_vectors.append(d_vector)\n",
        "    \n",
        "    enroll = d_vectors[:NUM_ENROLL_UTT]\n",
        "    enroll = normalize(np.mean(enroll, axis=0)) # 등록 발화를 평균\n",
        "\n",
        "    for j in range(NUM_TRUE_UTT): true_score.append(cosine_similarity(enroll,d_vectors[NUM_ENROLL_UTT+j]))\n",
        "    for j in range(NUM_FALSE_UTT): false_score.append(cosine_similarity(enroll,d_vectors[NUM_ENROLL_UTT+NUM_TRUE_UTT+j]))\n",
        "  \n",
        "  # calculate_eer함수의 인자로 알맞은 형태로 변환. true의 label에 1 표시해주기\n",
        "  scores = np.array(true_score+false_score)\n",
        "  labels = np.array([1.0]*len(true_score)+[0.0]*len(false_score))\n",
        "\n",
        "  # eer 계산\n",
        "  eer, thres = calculate_eer(np.arange(0, 1.0, 0.001), scores, labels, get_threshold=True)\n",
        "  print('EER:', eer, '  thres:',thres)"
      ],
      "metadata": {
        "id": "tpKRR55h5NJ7"
      },
      "id": "tpKRR55h5NJ7",
      "execution_count": null,
      "outputs": []
    },
    {
      "cell_type": "code",
      "execution_count": null,
      "id": "7cc4f28a",
      "metadata": {
        "scrolled": true,
        "id": "7cc4f28a"
      },
      "outputs": [],
      "source": [
        "#generate_val_dataset('C:/Users/LeeJunghun/Desktop/lingometer/data/NIKL_DIALOGUE_2020_PCM_v1.2_part1/NIKL_DIALOGUE_2020_PCM_v1.2_part1/npy/test', 'C:/Users/LeeJunghun/Desktop/lingometer/data/NIKL_DIALOGUE_2020_PCM_v1.2_part1/NIKL_DIALOGUE_2020_PCM_v1.2_part1/test_frame_batcher')"
      ]
    }
  ],
  "metadata": {
    "kernelspec": {
      "display_name": "Python 3 (ipykernel)",
      "language": "python",
      "name": "python3"
    },
    "language_info": {
      "codemirror_mode": {
        "name": "ipython",
        "version": 3
      },
      "file_extension": ".py",
      "mimetype": "text/x-python",
      "name": "python",
      "nbconvert_exporter": "python",
      "pygments_lexer": "ipython3",
      "version": "3.9.12"
    },
    "colab": {
      "provenance": []
    }
  },
  "nbformat": 4,
  "nbformat_minor": 5
}