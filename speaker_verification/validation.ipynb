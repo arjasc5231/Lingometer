{
 "cells": [
  {
   "cell_type": "code",
   "execution_count": 1,
   "id": "f847b1e4",
   "metadata": {},
   "outputs": [
    {
     "name": "stdout",
     "output_type": "stream",
     "text": [
      "importing Jupyter notebook from constants.ipynb\n"
     ]
    }
   ],
   "source": [
    "import numpy as np\n",
    "import os\n",
    "import pickle\n",
    "import random\n",
    "\n",
    "import import_ipynb\n",
    "from constants import NUM_FBANK, HOP_LENGTH, NUM_PER_SPEAKER, NUM_FRAME"
   ]
  },
  {
   "cell_type": "code",
   "execution_count": 20,
   "id": "c2dbd9e3",
   "metadata": {},
   "outputs": [],
   "source": [
    "def generate_val_dataset(input_dir, output_dir):\n",
    "    NUM_PER_SPEAKER = 100 # 원래 300인데 이만큼의 길이가 안나오는 화자가 많아서 100으로 일단 줄임\n",
    "    \n",
    "    # 등록 발화 5, true 발화 5, false 발화 10\n",
    "    \n",
    "    X = []\n",
    "    for speaker in os.listdir(input_dir):\n",
    "        X_speaker = []\n",
    "        for utt in os.listdir(input_dir+'/'+speaker):\n",
    "            spec = np.load(input_dir+'/'+speaker+'/'+utt)\n",
    "            for i in range(0,spec.shape[0]-NUM_FRAME+1,NUM_FRAME): X_speaker.append(spec[i:i+NUM_FRAME,:])\n",
    "            if len(X_speaker)>=NUM_PER_SPEAKER: break\n",
    "        if len(X_speaker)<NUM_PER_SPEAKER: continue\n",
    "        X.append(np.array(X_speaker[:NUM_PER_SPEAKER]))\n",
    "    X = np.array(X)\n",
    "    num_speaker = len(X)\n",
    "    print('number of speakers who has more than minimun:', num_speaker)\n",
    "    \n",
    "    # sample utterances for validation\n",
    "    val_X = []\n",
    "    for speaker in range(num_speaker):\n",
    "        enroll_true_utt = X[speaker][np.random.choice(NUM_PER_SPEAKER, 10, replace=False)]  # enroll 발화 5개, true 발화 5개\n",
    "        val_X.append(enroll_true_utt)\n",
    "        \n",
    "        others = np.random.choice(num_speaker-1, 10, replace=False)\n",
    "        false_utt = []\n",
    "        for i in range(10):\n",
    "            if others[i]==speaker: others[i]=num_speaker-1\n",
    "            false_utt.append(X[others[i]][np.random.choice(NUM_PER_SPEAKER,1)[0]])\n",
    "        false_utt = np.array(false_utt)\n",
    "        val_X.append(false_utt)\n",
    "    val_X = np.concatenate(val_X)\n",
    "    print('total generated shape:',val_X.shape)\n",
    "    \n",
    "    val_Y = np.zeros(len(val_X)) # dummy\n",
    "\n",
    "    # save\n",
    "    XY = (val_X, val_Y)\n",
    "    with open(output_dir+'/'+f\"{num_speaker}.npy\",'wb') as f:\n",
    "        pickle.dump(XY,f)"
   ]
  },
  {
   "cell_type": "code",
   "execution_count": 21,
   "id": "7cc4f28a",
   "metadata": {
    "scrolled": true
   },
   "outputs": [
    {
     "name": "stdout",
     "output_type": "stream",
     "text": [
      "number of speakers who has more than minimun: 64\n",
      "total generated shape: (1280, 128, 128, 1)\n"
     ]
    }
   ],
   "source": [
    "generate_val_dataset('C:/Users/LeeJunghun/Desktop/lingometer/data/NIKL_DIALOGUE_2020_PCM_v1.2_part1/NIKL_DIALOGUE_2020_PCM_v1.2_part1/npy/validation', 'C:/Users/LeeJunghun/Desktop/lingometer/data/NIKL_DIALOGUE_2020_PCM_v1.2_part1/NIKL_DIALOGUE_2020_PCM_v1.2_part1/validation_batcher')"
   ]
  }
 ],
 "metadata": {
  "kernelspec": {
   "display_name": "Python 3 (ipykernel)",
   "language": "python",
   "name": "python3"
  },
  "language_info": {
   "codemirror_mode": {
    "name": "ipython",
    "version": 3
   },
   "file_extension": ".py",
   "mimetype": "text/x-python",
   "name": "python",
   "nbconvert_exporter": "python",
   "pygments_lexer": "ipython3",
   "version": "3.9.12"
  }
 },
 "nbformat": 4,
 "nbformat_minor": 5
}
