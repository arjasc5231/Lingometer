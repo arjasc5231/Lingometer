{
 "cells": [
  {
   "cell_type": "code",
   "execution_count": null,
   "id": "28e99388",
   "metadata": {},
   "outputs": [],
   "source": []
  },
  {
   "cell_type": "code",
   "execution_count": null,
   "id": "f61d6630",
   "metadata": {},
   "outputs": [],
   "source": [
    "def fit_naive(fitter_name, Model, Batcher, loss, initial_epoch, max_epoch):\n",
    "    X_train, X_test, Y_train, Y_test = Batcher.load_data()\n",
    "    Model.m.fit(x=X_train, y=Y_train, batch_size=100, epochs = max_epoch, initial_epoch=initial_epoch, shuffle=True, validation_data=(X_test, Y_test), callbacks=[early_stopping, reduce_lr, checkpoint])"
   ]
  },
  {
   "cell_type": "code",
   "execution_count": null,
   "id": "c1cafbf1",
   "metadata": {},
   "outputs": [],
   "source": [
    "def fit(fitter_name, Model, Batcher, loss, initial_epoch, max_epoch):\n",
    "    if fit_name == 'naive_fit': fit_naive(fitter_name, Model, Batcher, loss, initial_epoch, max_epoch)\n",
    "        "
   ]
  }
 ],
 "metadata": {
  "kernelspec": {
   "display_name": "Python 3",
   "language": "python",
   "name": "python3"
  },
  "language_info": {
   "codemirror_mode": {
    "name": "ipython",
    "version": 3
   },
   "file_extension": ".py",
   "mimetype": "text/x-python",
   "name": "python",
   "nbconvert_exporter": "python",
   "pygments_lexer": "ipython3",
   "version": "3.6.10"
  }
 },
 "nbformat": 4,
 "nbformat_minor": 5
}
