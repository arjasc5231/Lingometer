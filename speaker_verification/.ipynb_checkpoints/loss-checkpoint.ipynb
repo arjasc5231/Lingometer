{
 "cells": [
  {
   "cell_type": "code",
   "execution_count": null,
   "id": "4da1e179",
   "metadata": {},
   "outputs": [],
   "source": []
  },
  {
   "cell_type": "code",
   "execution_count": null,
   "id": "393c1d7b",
   "metadata": {},
   "outputs": [],
   "source": [
    "def get_loss(loss_name):\n",
    "    if loss_name=='cross_entropy': return 'sparse_categorical_crossentropy'"
   ]
  }
 ],
 "metadata": {
  "kernelspec": {
   "display_name": "Python 3 (ipykernel)",
   "language": "python",
   "name": "python3"
  },
  "language_info": {
   "codemirror_mode": {
    "name": "ipython",
    "version": 3
   },
   "file_extension": ".py",
   "mimetype": "text/x-python",
   "name": "python",
   "nbconvert_exporter": "python",
   "pygments_lexer": "ipython3",
   "version": "3.9.12"
  }
 },
 "nbformat": 4,
 "nbformat_minor": 5
}
