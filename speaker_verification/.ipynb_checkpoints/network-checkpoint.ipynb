{
 "cells": [
  {
   "cell_type": "code",
   "execution_count": null,
   "id": "a898857f",
   "metadata": {},
   "outputs": [],
   "source": []
  },
  {
   "cell_type": "code",
   "execution_count": null,
   "id": "548786c7",
   "metadata": {},
   "outputs": [],
   "source": [
    "def naive_model():\n",
    "    inputs = keras.Input(shape=(128, 128, 1))\n",
    "    conv1 = keras.layers.Conv2D(filters=32, kernel_size=[3, 3], activation=tf.nn.relu)(inputs)\n",
    "    pool1 = keras.layers.MaxPool2D(padding='SAME')(conv1)\n",
    "    conv2 = keras.layers.Conv2D(filters=64, kernel_size=[3, 3], activation=tf.nn.relu)(pool1)\n",
    "    pool2 = keras.layers.MaxPool2D(padding='SAME')(conv2)\n",
    "    conv3 = keras.layers.Conv2D(filters=128, kernel_size=[3, 3], activation=tf.nn.relu)(pool2)\n",
    "    pool3 = keras.layers.MaxPool2D(padding='SAME')(conv3)\n",
    "\n",
    "    trans = keras.layers.Permute((2,1,3))(pool3)\n",
    "    reshape = keras.layers.Reshape((-1, 15*128))(trans) # 열 개수(freq축)*ch\n",
    "    lstm = keras.layers.Bidirectional(keras.layers.LSTM(128, return_sequences=True, dropout=0.3))(reshape) # (time=15,hidden=256)\n",
    "\n",
    "    attention_score1 = keras.layers.Dense(1, activation='tanh')(lstm) # lstm(time,hidden)*W(hidden,1)=score(time,1)\n",
    "    attention_score2 = keras.layers.Softmax()(attention_score1)\n",
    "    attention = keras.layers.Dot(axes=(1,1))([lstm, attention_score2]) # (time=15, hidden=256) * (time,) => (hidden=256)\n",
    "    flatten = keras.layers.Flatten()(attention)\n",
    "    \n",
    "    fc = keras.layers.Dense(7)(flatten)\n",
    "    return keras.Model(inputs=inputs, outputs=fc)"
   ]
  }
 ],
 "metadata": {
  "kernelspec": {
   "display_name": "Python 3",
   "language": "python",
   "name": "python3"
  },
  "language_info": {
   "codemirror_mode": {
    "name": "ipython",
    "version": 3
   },
   "file_extension": ".py",
   "mimetype": "text/x-python",
   "name": "python",
   "nbconvert_exporter": "python",
   "pygments_lexer": "ipython3",
   "version": "3.6.10"
  }
 },
 "nbformat": 4,
 "nbformat_minor": 5
}
