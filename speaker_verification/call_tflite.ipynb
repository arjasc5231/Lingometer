{
  "nbformat": 4,
  "nbformat_minor": 0,
  "metadata": {
    "colab": {
      "provenance": [],
      "collapsed_sections": [],
      "authorship_tag": "ABX9TyPV2JbNVP7NXmLwGvkRHy39"
    },
    "kernelspec": {
      "name": "python3",
      "display_name": "Python 3"
    },
    "language_info": {
      "name": "python"
    }
  },
  "cells": [
    {
      "cell_type": "code",
      "source": [
        "# drive mount. colab에 내 구글 드라이브 연결\n",
        "from google.colab import drive\n",
        "drive.mount('/content/drive')"
      ],
      "metadata": {
        "id": "0XPV9DDHth5a"
      },
      "execution_count": null,
      "outputs": []
    },
    {
      "cell_type": "code",
      "source": [
        "import os\n",
        "import sys\n",
        "import tensorflow as tf\n",
        "import numpy as np\n",
        "import time"
      ],
      "metadata": {
        "id": "l5OzDc2ctfd2"
      },
      "execution_count": null,
      "outputs": []
    },
    {
      "cell_type": "code",
      "execution_count": null,
      "metadata": {
        "id": "l8Lruq8StRb5"
      },
      "outputs": [],
      "source": [
        "def call_tflite(model_name):\n",
        "  \"\"\" check whether .tflite file is complete and get dummy ouput with inference time\n",
        "  \n",
        "  Args:\n",
        "    model_name : model name with .tflite at root/model/\n",
        "\n",
        "  \"\"\"\n",
        "\n",
        "  # make dummy dataset\n",
        "  x_test = [[1]*40 for i in range(49)]\n",
        "  x_test = np.array(x_test, dtype=np.int8)\n",
        "  #x_test = np.expand_dims(x_test, axis=-1)\n",
        "  x_test = np.expand_dims(x_test, axis=0)\n",
        "\n",
        "\n",
        "  # create interpreter\n",
        "  interpreter = tf.lite.Interpreter('/content/drive/MyDrive/team_malmungchi/colab/speaker_verification/model/'+model_name)\n",
        "  interpreter.allocate_tensors()\n",
        "\n",
        "\n",
        "  # get input/output details\n",
        "  input_details = interpreter.get_input_details()\n",
        "  output_details = interpreter.get_output_details()\n",
        "\n",
        "  print('input dtype:', input_details[0]['dtype'])\n",
        "  print('input shape:', input_details[0]['shape'])\n",
        "  print('output dtype:', output_details[0]['dtype'])\n",
        "  print('output shape:', output_details[0]['shape'])\n",
        "\n",
        "\n",
        "  # allocate tensor to interpreter\n",
        "  interpreter.set_tensor(input_details[0]['index'], x_test)\n",
        "\n",
        "\n",
        "  # inference\n",
        "  start = time.time()\n",
        "  interpreter.invoke()\n",
        "  end = time.time()\n",
        "  print('inference time(s):', end-start)\n",
        "\n",
        "\n",
        "  # print output\n",
        "  print('output data:')\n",
        "  print(interpreter.get_tensor(output_details[0]['index']))"
      ]
    },
    {
      "cell_type": "code",
      "source": [
        "call_tflite('arduino_CRNN-naive_batcher-cross_entropy.tflite')"
      ],
      "metadata": {
        "id": "HdtURei4wmog"
      },
      "execution_count": null,
      "outputs": []
    }
  ]
}