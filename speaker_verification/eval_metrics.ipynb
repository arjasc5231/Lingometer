{
  "nbformat": 4,
  "nbformat_minor": 0,
  "metadata": {
    "colab": {
      "name": "eval_metrics.ipynb",
      "provenance": [],
      "collapsed_sections": [],
      "authorship_tag": "ABX9TyPExUgW/YwaMRMqn+xRyBTh",
      "include_colab_link": true
    },
    "kernelspec": {
      "name": "python3",
      "display_name": "Python 3"
    },
    "language_info": {
      "name": "python"
    }
  },
  "cells": [
    {
      "cell_type": "markdown",
      "metadata": {
        "id": "view-in-github",
        "colab_type": "text"
      },
      "source": [
        "<a href=\"https://colab.research.google.com/github/arjasc5231/Lingometer/blob/speaker_verification/speaker_verification/eval_metrics.ipynb\" target=\"_parent\"><img src=\"https://colab.research.google.com/assets/colab-badge.svg\" alt=\"Open In Colab\"/></a>"
      ]
    },
    {
      "cell_type": "code",
      "execution_count": null,
      "metadata": {
        "id": "uN4qIyNS9AUQ"
      },
      "outputs": [],
      "source": [
        "#https://github.com/philipperemy/deep-speaker/blob/master/eval_metrics.py\n",
        "\n",
        "import numpy as np\n",
        "\n",
        "\n",
        "def evaluate(sims, labels):\n",
        "    # Calculate evaluation metrics\n",
        "    thresholds = np.arange(0, 1.0, 0.001)\n",
        "    fm, tpr, acc = calculate_roc(thresholds, sims, labels)\n",
        "    eer = calculate_eer(thresholds, sims, labels)\n",
        "    return fm, tpr, acc, eer\n",
        "\n",
        "\n",
        "def calculate_roc(thresholds, sims, labels):\n",
        "    nrof_thresholds = len(thresholds)\n",
        "\n",
        "    tprs = np.zeros((nrof_thresholds))\n",
        "    fprs = np.zeros((nrof_thresholds))\n",
        "    acc_train = np.zeros((nrof_thresholds))\n",
        "    precisions = np.zeros((nrof_thresholds))\n",
        "    fms = np.zeros((nrof_thresholds))\n",
        "\n",
        "    # Find the best threshold for the fold\n",
        "\n",
        "    for threshold_idx, threshold in enumerate(thresholds):\n",
        "        tprs[threshold_idx], fprs[threshold_idx], precisions[threshold_idx], fms[threshold_idx], acc_train[\n",
        "            threshold_idx] = calculate_accuracy(threshold, sims, labels)\n",
        "\n",
        "    bestindex = np.argmax(fms)\n",
        "    bestfm = fms[bestindex]\n",
        "    besttpr = tprs[bestindex]\n",
        "    bestacc = acc_train[bestindex]\n",
        "\n",
        "    return bestfm, besttpr, bestacc\n",
        "\n",
        "\n",
        "def calculate_accuracy(threshold, sims, actual_issame):\n",
        "    predict_issame = np.greater(sims, threshold)\n",
        "    tp = np.sum(np.logical_and(predict_issame, actual_issame))\n",
        "    fp = np.sum(np.logical_and(predict_issame, np.logical_not(actual_issame)))\n",
        "    tn = np.sum(np.logical_and(np.logical_not(predict_issame), np.logical_not(actual_issame)))\n",
        "    fn = np.sum(np.logical_and(np.logical_not(predict_issame), actual_issame))\n",
        "\n",
        "    tpr = 0 if (tp + fn == 0) else float(tp) / float(tp + fn)  # recall\n",
        "    fpr = 0 if (fp + tn == 0) else float(fp) / float(fp + tn)\n",
        "    precision = 0 if (tp + fp == 0) else float(tp) / float(tp + fp)\n",
        "    fm = 2 * precision * tpr / (precision + tpr + 1e-12)\n",
        "    acc = float(tp + tn) / (sims.size + 1e-12)\n",
        "    return tpr, fpr, precision, fm, acc\n",
        "\n",
        "\n",
        "def calculate_eer(thresholds, sims, labels):\n",
        "    nrof_thresholds = len(thresholds)\n",
        "\n",
        "    # Find the threshold that gives FAR = far_target\n",
        "    far_train = np.zeros(nrof_thresholds)\n",
        "    frr_train = np.zeros(nrof_thresholds)\n",
        "    eer_index = 0\n",
        "    eer_diff = 100000000\n",
        "    for threshold_idx, threshold in enumerate(thresholds):\n",
        "        frr_train[threshold_idx], far_train[threshold_idx] = calculate_val_far(threshold, sims, labels)\n",
        "        if abs(frr_train[threshold_idx] - far_train[threshold_idx]) < eer_diff:\n",
        "            eer_diff = abs(frr_train[threshold_idx] - far_train[threshold_idx])\n",
        "            eer_index = threshold_idx\n",
        "\n",
        "    frr, far = frr_train[eer_index], far_train[eer_index]\n",
        "\n",
        "    eer = (frr + far) / 2\n",
        "\n",
        "    return eer\n",
        "\n",
        "\n",
        "def calculate_val_far(threshold, sims, actual_issame):\n",
        "    predict_issame = np.greater(sims, threshold)\n",
        "    true_accept = np.sum(np.logical_and(predict_issame, actual_issame))\n",
        "    false_accept = np.sum(np.logical_and(predict_issame, np.logical_not(actual_issame)))\n",
        "    n_same = np.sum(actual_issame)\n",
        "    n_diff = np.sum(np.logical_not(actual_issame))\n",
        "    if n_diff == 0:\n",
        "        n_diff = 1\n",
        "    if n_same == 0:\n",
        "        return 0, 0\n",
        "    val = float(true_accept) / float(n_same)\n",
        "    frr = 1 - val\n",
        "    far = float(false_accept) / float(n_diff)\n",
        "    return frr, far"
      ]
    }
  ]
}