{
  "cells": [
    {
      "cell_type": "markdown",
      "metadata": {
        "id": "view-in-github",
        "colab_type": "text"
      },
      "source": [
        "<a href=\"https://colab.research.google.com/github/arjasc5231/Lingometer/blob/speaker_verification/speaker_verification/fitter.ipynb\" target=\"_parent\"><img src=\"https://colab.research.google.com/assets/colab-badge.svg\" alt=\"Open In Colab\"/></a>"
      ]
    },
    {
      "cell_type": "code",
      "execution_count": null,
      "id": "28e99388",
      "metadata": {
        "id": "28e99388"
      },
      "outputs": [],
      "source": [
        "from tensorflow.keras.utils import to_categorical\n",
        "import numpy as np\n",
        "import pickle"
      ]
    },
    {
      "cell_type": "code",
      "execution_count": null,
      "id": "f61d6630",
      "metadata": {
        "id": "f61d6630"
      },
      "outputs": [],
      "source": [
        "def fit_naive(Model, Batcher, test_X, loss, initial_epoch, max_epoch):\n",
        "    X_train, X_test, Y_train, Y_test = Batcher.load_data()\n",
        "    X = np.concatenate((X_train,X_test)) # 나중에 데이터셋에서 train/test split을 하지 말기. 아니면 test로 지금의 validation을 하고 validation을 진짜 마지막 validation으로 하던가\n",
        "    Y = np.concatenate((Y_train,Y_test))\n",
        "\n",
        "    Model.fit(x=X, y=Y, batch_size=100, epochs = max_epoch, initial_epoch=initial_epoch, shuffle=False, validation_data=(test_X,test_X), validation_batch_size=test_X.shape[0])\n",
        "    # callbacks=[early_stopping, reduce_lr, checkpoint]"
      ]
    },
    {
      "cell_type": "code",
      "source": [
        "def fit_simMat(Model, Batcher, test_X, loss, initial_epoch, max_epoch):\n",
        "  X, Y = Batcher.load_data()\n",
        "  X = np.reshape(X,(-1,128,128,1))\n",
        "  Y = np.reshape(Y,(-1))\n",
        "  print(X.shape)\n",
        "  print(Y.shape)\n",
        "\n",
        "  # x를 batch 생성 함수로 한다면, batch_size를 사용하지 않고(사이즈는 어짜피 batch 생성 함수에서 결정) steps_per_epoch으로 한 에폭에서 batch 개수를 설정\n",
        "  # 어떻게 배치까지 다 모여있는 X를 fit에 배치별로 처리하라 입력하지? generator 함수의 형태로 한 배치씩 내놓도록 해야하나.\n",
        "  Model.fit(x=X, y=Y, batch_size=25, epochs=50, shuffle=False, validation_data=(test_X,test_X), validation_batch_size=test_X.shape[0])"
      ],
      "metadata": {
        "id": "JRWYAo4BKlSe"
      },
      "id": "JRWYAo4BKlSe",
      "execution_count": null,
      "outputs": []
    },
    {
      "cell_type": "code",
      "source": [
        "def fit_simMat_online(Model, Batcher, test_X, loss, initial_epoch, max_epoch):\n",
        "\n",
        "  \n",
        "  Model.fit(x=Batcher.train_generator(), steps_per_epoch=10000, epochs=10, shuffle=False, validation_data=(test_X,test_X), validation_batch_size=test_X.shape[0]) # validation_data에서 test_X를 두번 넣는 것은 Y데이터 입력을 위한 dummy. 0짜리 numpy배열을 새로 만들어도 되지만, 이러는 편이 메모리를 덜 쓸 것이라 생각\n",
        "  # 사실 steps_per_epoch으로 하나의 에폭에 몇개의 배치를 할 지 결정하는건 학습에 아무 상관이 없으나, epoch이 끝날 때 마다 keras가 print하기 때문에 steps_per_epoch을 1로 두고 epoch을 크게 하는 건 출력이 너무 많아 복잡함\n",
        "  # 그래서 한 epoch에 1000 batch정도로 뒀음"
      ],
      "metadata": {
        "id": "-JkJcsHeOUn9"
      },
      "id": "-JkJcsHeOUn9",
      "execution_count": null,
      "outputs": []
    },
    {
      "cell_type": "code",
      "execution_count": null,
      "id": "c1cafbf1",
      "metadata": {
        "id": "c1cafbf1"
      },
      "outputs": [],
      "source": [
        "def fit(Model, Batcher, test_X, loss, initial_epoch, max_epoch):\n",
        "    if Batcher.name == 'naive_batcher': fit_naive(Model, Batcher, test_X, loss, initial_epoch, max_epoch)\n",
        "    elif Batcher.name == 'simMat_batcher': fit_simMat(Model, Batcher, test_X, loss, initial_epoch, max_epoch)\n",
        "    elif Batcher.name == 'simMat_online_batcher': fit_simMat_online(Model, Batcher, test_X, loss, initial_epoch, max_epoch)\n",
        "        "
      ]
    }
  ],
  "metadata": {
    "kernelspec": {
      "display_name": "Python 3 (ipykernel)",
      "language": "python",
      "name": "python3"
    },
    "language_info": {
      "codemirror_mode": {
        "name": "ipython",
        "version": 3
      },
      "file_extension": ".py",
      "mimetype": "text/x-python",
      "name": "python",
      "nbconvert_exporter": "python",
      "pygments_lexer": "ipython3",
      "version": "3.9.12"
    },
    "colab": {
      "name": "fitter.ipynb",
      "provenance": [],
      "collapsed_sections": [],
      "include_colab_link": true
    }
  },
  "nbformat": 4,
  "nbformat_minor": 5
}