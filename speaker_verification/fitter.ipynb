{
  "cells": [
    {
      "cell_type": "markdown",
      "metadata": {
        "id": "view-in-github",
        "colab_type": "text"
      },
      "source": [
        "<a href=\"https://colab.research.google.com/github/arjasc5231/Lingometer/blob/speaker_verification/speaker_verification/fitter.ipynb\" target=\"_parent\"><img src=\"https://colab.research.google.com/assets/colab-badge.svg\" alt=\"Open In Colab\"/></a>"
      ]
    },
    {
      "cell_type": "code",
      "execution_count": null,
      "id": "28e99388",
      "metadata": {
        "id": "28e99388"
      },
      "outputs": [],
      "source": [
        "from tensorflow.keras.utils import to_categorical\n",
        "import numpy as np"
      ]
    },
    {
      "cell_type": "code",
      "execution_count": null,
      "id": "f61d6630",
      "metadata": {
        "id": "f61d6630"
      },
      "outputs": [],
      "source": [
        "def fit_naive(Model, Batcher, loss, initial_epoch, max_epoch):\n",
        "    X_train, X_test, Y_train, Y_test = Batcher.load_data()\n",
        "    print(X_train.shape)\n",
        "    print(Y_train.shape)\n",
        "    print(X_test.shape)\n",
        "    print(Y_test.shape)  \n",
        "\n",
        "    Model.fit(x=X_train, y=Y_train, batch_size=100, epochs = max_epoch, initial_epoch=initial_epoch, shuffle=True, validation_data=(X_test, Y_test))\n",
        "    # callbacks=[early_stopping, reduce_lr, checkpoint]"
      ]
    },
    {
      "cell_type": "code",
      "source": [
        "def fit_simMat(Model, Batcher, loss, initial_epoch, max_epoch):\n",
        "  X, Y = Batcher.load_data()\n",
        "  X = np.reshape(X,(-1,128,128,1))\n",
        "  Y = np.reshape(Y,(-1))\n",
        "  print(X.shape)\n",
        "  print(Y.shape)\n",
        "\n",
        "  # x를 batch 생성 함수로 한다면, batch_size를 사용하지 않고(사이즈는 어짜피 batch 생성 함수에서 결정) steps_per_epoch으로 한 에폭에서 batch 개수를 설정\n",
        "  # 어떻게 배치까지 다 모여있는 X를 fit에 배치별로 처리하라 입력하지? generator 함수의 형태로 한 배치씩 내놓도록 해야하나.\n",
        "  Model.fit(x=X, y=Y, batch_size=25, epochs=50, shuffle=False)"
      ],
      "metadata": {
        "id": "JRWYAo4BKlSe"
      },
      "id": "JRWYAo4BKlSe",
      "execution_count": null,
      "outputs": []
    },
    {
      "cell_type": "code",
      "execution_count": null,
      "id": "c1cafbf1",
      "metadata": {
        "id": "c1cafbf1"
      },
      "outputs": [],
      "source": [
        "def fit(fit_name, Model, Batcher, loss, initial_epoch, max_epoch):\n",
        "    if fit_name == 'naive_fit': fit_naive(Model, Batcher, loss, initial_epoch, max_epoch)\n",
        "    elif fit_name == 'simMat_fit': fit_simMat(Model, Batcher, loss, initial_epoch, max_epoch)\n",
        "        "
      ]
    }
  ],
  "metadata": {
    "kernelspec": {
      "display_name": "Python 3 (ipykernel)",
      "language": "python",
      "name": "python3"
    },
    "language_info": {
      "codemirror_mode": {
        "name": "ipython",
        "version": 3
      },
      "file_extension": ".py",
      "mimetype": "text/x-python",
      "name": "python",
      "nbconvert_exporter": "python",
      "pygments_lexer": "ipython3",
      "version": "3.9.12"
    },
    "colab": {
      "name": "fitter.ipynb",
      "provenance": [],
      "collapsed_sections": [],
      "include_colab_link": true
    }
  },
  "nbformat": 4,
  "nbformat_minor": 5
}