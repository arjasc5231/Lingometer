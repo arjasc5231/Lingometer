{
  "cells": [
    {
      "cell_type": "code",
      "execution_count": null,
      "id": "28e99388",
      "metadata": {
        "id": "28e99388"
      },
      "outputs": [],
      "source": [
        "from tensorflow.keras.utils import to_categorical\n",
        "import numpy as np\n",
        "import pickle"
      ]
    },
    {
      "cell_type": "code",
      "execution_count": null,
      "id": "f61d6630",
      "metadata": {
        "id": "f61d6630"
      },
      "outputs": [],
      "source": [
        "def fit_naive(Model, Batcher, val_X, Loss, hyper_params, optimizer, callbacks):\n",
        "  initial_epoch = hyper_params.get('initial_epoch', 0)\n",
        "  max_epoch = hyper_params.get('max_epoch', 1000)\n",
        "\n",
        "  Model.compile(optimizer=optimizer, loss=Loss, metrics=['accuracy'])\n",
        "  Model.fit(x=Batcher.X, y=Batcher.Y, batch_size=100, epochs = max_epoch, initial_epoch=initial_epoch, shuffle=True, validation_data=(val_X,val_X), validation_batch_size=val_X.shape[0], callbacks = callbacks)"
      ]
    },
    {
      "cell_type": "code",
      "source": [
        "def fit_simMat(Model, Batcher, val_X, Loss, hyper_params, optimizer, callbacks):\n",
        "  initial_epoch = hyper_params.get('initial_epoch', 0)\n",
        "  max_epoch = hyper_params.get('max_epoch', 1000)\n",
        "\n",
        "  Model.compile(optimizer=optimizer, loss=Loss)  \n",
        "  Model.fit(x=Batcher.train_generator(), steps_per_epoch=10, epochs = max_epoch, initial_epoch=initial_epoch, shuffle=False, validation_data=(val_X,val_X), validation_batch_size=val_X.shape[0], callbacks = callbacks)"
      ],
      "metadata": {
        "id": "-JkJcsHeOUn9"
      },
      "id": "-JkJcsHeOUn9",
      "execution_count": null,
      "outputs": []
    },
    {
      "cell_type": "code",
      "execution_count": null,
      "id": "c1cafbf1",
      "metadata": {
        "id": "c1cafbf1"
      },
      "outputs": [],
      "source": [
        "def fit(Model, Batcher, val_X, Loss, hyper_params, optimizer, callbacks):\n",
        "    print('==================================================')\n",
        "    print('start training...')\n",
        "    if Batcher.name == 'naive_batcher': fit_naive(Model, Batcher, val_X, Loss, hyper_params, optimizer, callbacks)\n",
        "    elif Batcher.name == 'simMat_batcher': fit_simMat(Model, Batcher, val_X, Loss, hyper_params, optimizer, callbacks)"
      ]
    }
  ],
  "metadata": {
    "kernelspec": {
      "display_name": "Python 3 (ipykernel)",
      "language": "python",
      "name": "python3"
    },
    "language_info": {
      "codemirror_mode": {
        "name": "ipython",
        "version": 3
      },
      "file_extension": ".py",
      "mimetype": "text/x-python",
      "name": "python",
      "nbconvert_exporter": "python",
      "pygments_lexer": "ipython3",
      "version": "3.9.12"
    },
    "colab": {
      "provenance": []
    }
  },
  "nbformat": 4,
  "nbformat_minor": 5
}