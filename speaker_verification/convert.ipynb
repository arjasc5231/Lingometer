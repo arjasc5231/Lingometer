{
  "nbformat": 4,
  "nbformat_minor": 0,
  "metadata": {
    "colab": {
      "provenance": [],
      "collapsed_sections": [],
      "authorship_tag": "ABX9TyOcUUl2qz1zeHZjp9/5YEtB"
    },
    "kernelspec": {
      "name": "python3",
      "display_name": "Python 3"
    },
    "language_info": {
      "name": "python"
    }
  },
  "cells": [
    {
      "cell_type": "code",
      "execution_count": 1,
      "metadata": {
        "id": "odwwr23ldeV_",
        "colab": {
          "base_uri": "https://localhost:8080/"
        },
        "outputId": "33addf88-256b-4da9-8f0a-e1ea898d7211"
      },
      "outputs": [
        {
          "output_type": "stream",
          "name": "stdout",
          "text": [
            "Mounted at /content/drive\n"
          ]
        }
      ],
      "source": [
        "from google.colab import drive\n",
        "drive.mount('/content/drive')"
      ]
    },
    {
      "cell_type": "code",
      "source": [
        "# import_ipynb module 설치\n",
        "!pip install import_ipynb\n",
        "\n",
        "!apt-get update\n",
        "!apt-get -qq install xxd"
      ],
      "metadata": {
        "colab": {
          "base_uri": "https://localhost:8080/"
        },
        "id": "Fh7xJ0vshe03",
        "outputId": "db107237-da4d-4e9d-a899-ffe2d37e355e"
      },
      "execution_count": 2,
      "outputs": [
        {
          "output_type": "stream",
          "name": "stdout",
          "text": [
            "Looking in indexes: https://pypi.org/simple, https://us-python.pkg.dev/colab-wheels/public/simple/\n",
            "Collecting import_ipynb\n",
            "  Downloading import_ipynb-0.1.4-py3-none-any.whl (4.1 kB)\n",
            "Requirement already satisfied: nbformat in /usr/local/lib/python3.7/dist-packages (from import_ipynb) (5.7.0)\n",
            "Requirement already satisfied: IPython in /usr/local/lib/python3.7/dist-packages (from import_ipynb) (7.9.0)\n",
            "Requirement already satisfied: traitlets>=4.2 in /usr/local/lib/python3.7/dist-packages (from IPython->import_ipynb) (5.1.1)\n",
            "Requirement already satisfied: pexpect in /usr/local/lib/python3.7/dist-packages (from IPython->import_ipynb) (4.8.0)\n",
            "Requirement already satisfied: decorator in /usr/local/lib/python3.7/dist-packages (from IPython->import_ipynb) (4.4.2)\n",
            "Requirement already satisfied: setuptools>=18.5 in /usr/local/lib/python3.7/dist-packages (from IPython->import_ipynb) (57.4.0)\n",
            "Requirement already satisfied: prompt-toolkit<2.1.0,>=2.0.0 in /usr/local/lib/python3.7/dist-packages (from IPython->import_ipynb) (2.0.10)\n",
            "Requirement already satisfied: pygments in /usr/local/lib/python3.7/dist-packages (from IPython->import_ipynb) (2.6.1)\n",
            "Requirement already satisfied: pickleshare in /usr/local/lib/python3.7/dist-packages (from IPython->import_ipynb) (0.7.5)\n",
            "Requirement already satisfied: backcall in /usr/local/lib/python3.7/dist-packages (from IPython->import_ipynb) (0.2.0)\n",
            "Collecting jedi>=0.10\n",
            "  Downloading jedi-0.18.1-py2.py3-none-any.whl (1.6 MB)\n",
            "\u001b[K     |████████████████████████████████| 1.6 MB 4.0 MB/s \n",
            "\u001b[?25hRequirement already satisfied: parso<0.9.0,>=0.8.0 in /usr/local/lib/python3.7/dist-packages (from jedi>=0.10->IPython->import_ipynb) (0.8.3)\n",
            "Requirement already satisfied: six>=1.9.0 in /usr/local/lib/python3.7/dist-packages (from prompt-toolkit<2.1.0,>=2.0.0->IPython->import_ipynb) (1.15.0)\n",
            "Requirement already satisfied: wcwidth in /usr/local/lib/python3.7/dist-packages (from prompt-toolkit<2.1.0,>=2.0.0->IPython->import_ipynb) (0.2.5)\n",
            "Requirement already satisfied: fastjsonschema in /usr/local/lib/python3.7/dist-packages (from nbformat->import_ipynb) (2.16.2)\n",
            "Requirement already satisfied: jsonschema>=2.6 in /usr/local/lib/python3.7/dist-packages (from nbformat->import_ipynb) (4.3.3)\n",
            "Requirement already satisfied: importlib-metadata>=3.6 in /usr/local/lib/python3.7/dist-packages (from nbformat->import_ipynb) (4.13.0)\n",
            "Requirement already satisfied: jupyter-core in /usr/local/lib/python3.7/dist-packages (from nbformat->import_ipynb) (4.11.1)\n",
            "Requirement already satisfied: typing-extensions>=3.6.4 in /usr/local/lib/python3.7/dist-packages (from importlib-metadata>=3.6->nbformat->import_ipynb) (4.1.1)\n",
            "Requirement already satisfied: zipp>=0.5 in /usr/local/lib/python3.7/dist-packages (from importlib-metadata>=3.6->nbformat->import_ipynb) (3.9.0)\n",
            "Requirement already satisfied: importlib-resources>=1.4.0 in /usr/local/lib/python3.7/dist-packages (from jsonschema>=2.6->nbformat->import_ipynb) (5.10.0)\n",
            "Requirement already satisfied: pyrsistent!=0.17.0,!=0.17.1,!=0.17.2,>=0.14.0 in /usr/local/lib/python3.7/dist-packages (from jsonschema>=2.6->nbformat->import_ipynb) (0.18.1)\n",
            "Requirement already satisfied: attrs>=17.4.0 in /usr/local/lib/python3.7/dist-packages (from jsonschema>=2.6->nbformat->import_ipynb) (22.1.0)\n",
            "Requirement already satisfied: ptyprocess>=0.5 in /usr/local/lib/python3.7/dist-packages (from pexpect->IPython->import_ipynb) (0.7.0)\n",
            "Installing collected packages: jedi, import-ipynb\n",
            "Successfully installed import-ipynb-0.1.4 jedi-0.18.1\n",
            "Get:1 https://cloud.r-project.org/bin/linux/ubuntu bionic-cran40/ InRelease [3,626 B]\n",
            "Ign:2 https://developer.download.nvidia.com/compute/machine-learning/repos/ubuntu1804/x86_64  InRelease\n",
            "Get:3 https://developer.download.nvidia.com/compute/cuda/repos/ubuntu1804/x86_64  InRelease [1,581 B]\n",
            "Hit:4 https://developer.download.nvidia.com/compute/machine-learning/repos/ubuntu1804/x86_64  Release\n",
            "Hit:5 http://ppa.launchpad.net/c2d4u.team/c2d4u4.0+/ubuntu bionic InRelease\n",
            "Get:6 https://developer.download.nvidia.com/compute/cuda/repos/ubuntu1804/x86_64  Packages [985 kB]\n",
            "Get:7 http://security.ubuntu.com/ubuntu bionic-security InRelease [88.7 kB]\n",
            "Hit:8 http://archive.ubuntu.com/ubuntu bionic InRelease\n",
            "Hit:10 http://ppa.launchpad.net/cran/libgit2/ubuntu bionic InRelease\n",
            "Get:11 http://archive.ubuntu.com/ubuntu bionic-updates InRelease [88.7 kB]\n",
            "Hit:12 http://ppa.launchpad.net/deadsnakes/ppa/ubuntu bionic InRelease\n",
            "Get:13 http://archive.ubuntu.com/ubuntu bionic-backports InRelease [83.3 kB]\n",
            "Hit:14 http://ppa.launchpad.net/graphics-drivers/ppa/ubuntu bionic InRelease\n",
            "Get:15 http://security.ubuntu.com/ubuntu bionic-security/main amd64 Packages [3,035 kB]\n",
            "Get:16 http://archive.ubuntu.com/ubuntu bionic-updates/main amd64 Packages [3,467 kB]\n",
            "Get:17 http://security.ubuntu.com/ubuntu bionic-security/universe amd64 Packages [1,554 kB]\n",
            "Get:18 http://archive.ubuntu.com/ubuntu bionic-updates/universe amd64 Packages [2,332 kB]\n",
            "Fetched 11.6 MB in 4s (2,718 kB/s)\n",
            "Reading package lists... Done\n"
          ]
        }
      ]
    },
    {
      "cell_type": "code",
      "source": [
        "# import를 위한 경로이동\n",
        "%cd /content/drive/MyDrive/team_malmungchi/colab/speaker_verification/code\n",
        "!ls"
      ],
      "metadata": {
        "colab": {
          "base_uri": "https://localhost:8080/"
        },
        "id": "Z0v46fp4Weu4",
        "outputId": "02df0c61-b5c9-4800-b1b8-74f0f8c1f1eb"
      },
      "execution_count": 3,
      "outputs": [
        {
          "output_type": "stream",
          "name": "stdout",
          "text": [
            "/content/drive/.shortcut-targets-by-id/1rEYIox5uYM9uP2spDttCYCqtt2GvSbn1/team_malmungchi/colab/speaker_verification/code\n",
            "batcher.ipynb\t\t constants.ipynb     fitter.ipynb      test_eer.ipynb\n",
            "call_development1.ipynb  convert.ipynb\t     loss.ipynb        utils.ipynb\n",
            "call_development2.ipynb  development.ipynb   network.ipynb\n",
            "call_development3.ipynb  eval_metrics.ipynb  preprocess.ipynb\n",
            "call_tflite.ipynb\t evaluation.ipynb    temp.wav\n"
          ]
        }
      ]
    },
    {
      "cell_type": "code",
      "source": [
        "import tensorflow as tf\n",
        "from tensorflow import keras\n",
        "import pickle\n",
        "import numpy as np\n",
        "\n",
        "import import_ipynb\n",
        "import network\n",
        "from utils import load_best_checkpoint"
      ],
      "metadata": {
        "id": "vow1YnIOGwW2",
        "colab": {
          "base_uri": "https://localhost:8080/"
        },
        "outputId": "06729c00-c3da-4c41-aef4-d6cdf90ba051"
      },
      "execution_count": 4,
      "outputs": [
        {
          "output_type": "stream",
          "name": "stdout",
          "text": [
            "importing Jupyter notebook from network.ipynb\n",
            "importing Jupyter notebook from eval_metrics.ipynb\n",
            "importing Jupyter notebook from utils.ipynb\n",
            "importing Jupyter notebook from constants.ipynb\n"
          ]
        }
      ]
    },
    {
      "cell_type": "code",
      "source": [
        "def convert(model_name, checkpoint_dir, model_path):\n",
        "  Model = network.get_network(model_name)\n",
        "\n",
        "  best_ckpt = load_best_checkpoint(checkpoint_dir)\n",
        "  Model.load_weights(checkpoint_dir+'/'+best_ckpt)\n",
        "\n",
        "  converter = tf.lite.TFLiteConverter.from_keras_model(Model)\n",
        "  converter.optimizations = [tf.lite.Optimize.DEFAULT]\n",
        "  converter._experimental_default_to_single_batch_in_tensor_list_ops = True # lstm의 경우 배치 크기가 1임을 명시해줘야한다.\n",
        "\n",
        "  #########################################\n",
        "  with open('../data/dataset/train_cpp_1581_200_49_40.pickle',\"rb\") as f:\n",
        "    X = pickle.load(f)\n",
        "    X = X.astype(np.float32)\n",
        "\n",
        "  def representative_data_gen():\n",
        "    for input_value in X:\n",
        "      yield [input_value]\n",
        "\n",
        "  converter.representative_dataset = representative_data_gen\n",
        "\n",
        "  # Ensure that if any ops can't be quantized, the converter throws an error\n",
        "  converter.target_spec.supported_ops = [tf.lite.OpsSet.TFLITE_BUILTINS_INT8]\n",
        "  # Set the input and output tensors to uint8 (APIs added in r2.3)\n",
        "  converter.inference_input_type = tf.int8\n",
        "  converter.inference_output_type = tf.int8\n",
        "\n",
        "  ########################################\n",
        "\n",
        "  tflite_model = converter.convert()\n",
        "  open(model_path+\"/\"+checkpoint_dir.split('/')[-1]+\".tflite\", \"wb\").write(tflite_model)"
      ],
      "metadata": {
        "id": "rUqrEctzdjCo"
      },
      "execution_count": 5,
      "outputs": []
    },
    {
      "cell_type": "code",
      "source": [
        "convert('arduino_CRNN','../model/arduino_CRNN-naive_batcher-cross_entropy', '../model')"
      ],
      "metadata": {
        "id": "kve5H4-edjVY",
        "colab": {
          "base_uri": "https://localhost:8080/"
        },
        "outputId": "796d425f-e90d-42a5-b4ed-4bcbda135ae7"
      },
      "execution_count": 6,
      "outputs": [
        {
          "output_type": "stream",
          "name": "stdout",
          "text": [
            "float32 -128.0\n"
          ]
        },
        {
          "output_type": "stream",
          "name": "stderr",
          "text": [
            "WARNING:absl:Found untraced functions such as _jit_compiled_convolution_op, _jit_compiled_convolution_op, lstm_cell_layer_call_fn, lstm_cell_layer_call_and_return_conditional_losses while saving (showing 4 of 4). These functions will not be directly callable after loading.\n",
            "/usr/local/lib/python3.7/dist-packages/tensorflow/lite/python/convert.py:766: UserWarning: Statistics for quantized inputs were expected, but not specified; continuing anyway.\n",
            "  warnings.warn(\"Statistics for quantized inputs were expected, but not \"\n"
          ]
        }
      ]
    },
    {
      "cell_type": "code",
      "source": [
        "%cd ..\n",
        "%cd model\n",
        "!ls"
      ],
      "metadata": {
        "id": "4arDONosH5yr",
        "colab": {
          "base_uri": "https://localhost:8080/"
        },
        "outputId": "ca443dde-003e-49f6-dfe0-e873351eb5d2"
      },
      "execution_count": 7,
      "outputs": [
        {
          "output_type": "stream",
          "name": "stdout",
          "text": [
            "/content/drive/.shortcut-targets-by-id/1rEYIox5uYM9uP2spDttCYCqtt2GvSbn1/team_malmungchi/colab/speaker_verification\n",
            "/content/drive/.shortcut-targets-by-id/1rEYIox5uYM9uP2spDttCYCqtt2GvSbn1/team_malmungchi/colab/speaker_verification/model\n",
            "ACRNN-naive_batcher-cross_entropy\n",
            "ACRNN-simMat_batcher-simMat_loss\n",
            "ACRNN-simMat_batcher-simMat_loss--transferedFrom--ACRNN-naive_batcher-cross_entropy\n",
            "ADRNN-naive_batcher-cross_entropy\n",
            "ADRNN-simMat_batcher-simMat_loss\n",
            "ADRNN-simMat_batcher-simMat_loss-931-large--transferedFrom--ADRNN-naive_batcher-cross_entropy\n",
            "ADRNN-simMat_batcher-simMat_loss-931--transferedFrom--ADRNN-naive_batcher-cross_entropy\n",
            "ADRNN-simMat_batcher-simMat_loss--transferedFrom--ADRNN-naive_batcher-cross_entropy\n",
            "arduino_CNN-naive_batcher-cross_entropy\n",
            "arduino_CNN-naive_batcher-cross_entropy.cc\n",
            "arduino_CNN-naive_batcher-cross_entropy-noCustom.cc\n",
            "arduino_CNN-naive_batcher-cross_entropy-noCustom.tflite\n",
            "arduino_CNN-naive_batcher-cross_entropy.tflite\n",
            "arduino_CRNN-naive_batcher-cross_entropy\n",
            "arduino_CRNN-naive_batcher-cross_entropy.cc\n",
            "arduino_CRNN-naive_batcher-cross_entropy.tflite\n",
            "CNN-naive_batcher-cross_entropy\n",
            "CNN-naive_batcher-cross_entropy.cc\n",
            "CNN-naive_batcher-cross_entropy.tflite\n",
            "CNN-simMat_batcher-simMat_loss-931-large--transferedFrom--CNN-naive_batcher-cross_entropy\n",
            "CRNN-simMat_batcher-simMat_loss-931\n",
            "CRNN-simMat_batcher-simMat_loss-931-large\n",
            "micro_speech.cc\n",
            "micro_speech.tflite\n",
            "modCRNN-naive_batcher-cross_entropy\n",
            "modCRNN-simMat_batcher-simMat_loss\n",
            "tiny_CNN-naive_batcher-cross_entropy\n",
            "tiny_CNN-naive_batcher-cross_entropy.cc\n",
            "tiny_CNN-naive_batcher-cross_entropy.tflite\n",
            "tiny_CRNN-naive_batcher-cross_entropy\n",
            "tiny_CRNN-naive_batcher-cross_entropy.cc\n",
            "tiny_CRNN-naive_batcher-cross_entropy.tflite\n"
          ]
        }
      ]
    },
    {
      "cell_type": "code",
      "source": [
        "!xxd -i arduino_CRNN-naive_batcher-cross_entropy.tflite > arduino_CRNN-naive_batcher-cross_entropy.cc"
      ],
      "metadata": {
        "id": "jvb-IqgcHwAM"
      },
      "execution_count": 8,
      "outputs": []
    },
    {
      "cell_type": "code",
      "source": [],
      "metadata": {
        "id": "mcxlmhSYWl_v"
      },
      "execution_count": 8,
      "outputs": []
    }
  ]
}