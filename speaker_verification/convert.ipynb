{
  "nbformat": 4,
  "nbformat_minor": 0,
  "metadata": {
    "colab": {
      "provenance": [],
      "collapsed_sections": [],
      "authorship_tag": "ABX9TyObVwauVqacTDhgk8CVknHd"
    },
    "kernelspec": {
      "name": "python3",
      "display_name": "Python 3"
    },
    "language_info": {
      "name": "python"
    }
  },
  "cells": [
    {
      "cell_type": "code",
      "execution_count": null,
      "metadata": {
        "id": "odwwr23ldeV_",
        "colab": {
          "base_uri": "https://localhost:8080/"
        },
        "outputId": "14cfa3b0-cb08-4356-dea8-20f29d4dd27d"
      },
      "outputs": [
        {
          "output_type": "stream",
          "name": "stdout",
          "text": [
            "Mounted at /content/drive\n"
          ]
        }
      ],
      "source": [
        "from google.colab import drive\n",
        "drive.mount('/content/drive')"
      ]
    },
    {
      "cell_type": "code",
      "source": [
        "# import_ipynb module 설치\n",
        "!pip install import_ipynb\n",
        "\n",
        "!apt-get update\n",
        "!apt-get -qq install xxd"
      ],
      "metadata": {
        "colab": {
          "base_uri": "https://localhost:8080/"
        },
        "id": "Fh7xJ0vshe03",
        "outputId": "a006d65f-8f4e-44ad-bf7a-73590d30d678"
      },
      "execution_count": null,
      "outputs": [
        {
          "output_type": "stream",
          "name": "stdout",
          "text": [
            "Looking in indexes: https://pypi.org/simple, https://us-python.pkg.dev/colab-wheels/public/simple/\n",
            "Collecting import_ipynb\n",
            "  Downloading import_ipynb-0.1.4-py3-none-any.whl (4.1 kB)\n",
            "Requirement already satisfied: nbformat in /usr/local/lib/python3.7/dist-packages (from import_ipynb) (5.7.0)\n",
            "Requirement already satisfied: IPython in /usr/local/lib/python3.7/dist-packages (from import_ipynb) (7.9.0)\n",
            "Requirement already satisfied: decorator in /usr/local/lib/python3.7/dist-packages (from IPython->import_ipynb) (4.4.2)\n",
            "Requirement already satisfied: backcall in /usr/local/lib/python3.7/dist-packages (from IPython->import_ipynb) (0.2.0)\n",
            "Requirement already satisfied: pexpect in /usr/local/lib/python3.7/dist-packages (from IPython->import_ipynb) (4.8.0)\n",
            "Requirement already satisfied: traitlets>=4.2 in /usr/local/lib/python3.7/dist-packages (from IPython->import_ipynb) (5.1.1)\n",
            "Requirement already satisfied: setuptools>=18.5 in /usr/local/lib/python3.7/dist-packages (from IPython->import_ipynb) (57.4.0)\n",
            "Collecting jedi>=0.10\n",
            "  Downloading jedi-0.18.1-py2.py3-none-any.whl (1.6 MB)\n",
            "\u001b[K     |████████████████████████████████| 1.6 MB 5.0 MB/s \n",
            "\u001b[?25hRequirement already satisfied: pickleshare in /usr/local/lib/python3.7/dist-packages (from IPython->import_ipynb) (0.7.5)\n",
            "Requirement already satisfied: prompt-toolkit<2.1.0,>=2.0.0 in /usr/local/lib/python3.7/dist-packages (from IPython->import_ipynb) (2.0.10)\n",
            "Requirement already satisfied: pygments in /usr/local/lib/python3.7/dist-packages (from IPython->import_ipynb) (2.6.1)\n",
            "Requirement already satisfied: parso<0.9.0,>=0.8.0 in /usr/local/lib/python3.7/dist-packages (from jedi>=0.10->IPython->import_ipynb) (0.8.3)\n",
            "Requirement already satisfied: wcwidth in /usr/local/lib/python3.7/dist-packages (from prompt-toolkit<2.1.0,>=2.0.0->IPython->import_ipynb) (0.2.5)\n",
            "Requirement already satisfied: six>=1.9.0 in /usr/local/lib/python3.7/dist-packages (from prompt-toolkit<2.1.0,>=2.0.0->IPython->import_ipynb) (1.15.0)\n",
            "Requirement already satisfied: fastjsonschema in /usr/local/lib/python3.7/dist-packages (from nbformat->import_ipynb) (2.16.2)\n",
            "Requirement already satisfied: importlib-metadata>=3.6 in /usr/local/lib/python3.7/dist-packages (from nbformat->import_ipynb) (4.13.0)\n",
            "Requirement already satisfied: jupyter-core in /usr/local/lib/python3.7/dist-packages (from nbformat->import_ipynb) (4.11.2)\n",
            "Requirement already satisfied: jsonschema>=2.6 in /usr/local/lib/python3.7/dist-packages (from nbformat->import_ipynb) (4.3.3)\n",
            "Requirement already satisfied: typing-extensions>=3.6.4 in /usr/local/lib/python3.7/dist-packages (from importlib-metadata>=3.6->nbformat->import_ipynb) (4.1.1)\n",
            "Requirement already satisfied: zipp>=0.5 in /usr/local/lib/python3.7/dist-packages (from importlib-metadata>=3.6->nbformat->import_ipynb) (3.9.0)\n",
            "Requirement already satisfied: pyrsistent!=0.17.0,!=0.17.1,!=0.17.2,>=0.14.0 in /usr/local/lib/python3.7/dist-packages (from jsonschema>=2.6->nbformat->import_ipynb) (0.18.1)\n",
            "Requirement already satisfied: attrs>=17.4.0 in /usr/local/lib/python3.7/dist-packages (from jsonschema>=2.6->nbformat->import_ipynb) (22.1.0)\n",
            "Requirement already satisfied: importlib-resources>=1.4.0 in /usr/local/lib/python3.7/dist-packages (from jsonschema>=2.6->nbformat->import_ipynb) (5.10.0)\n",
            "Requirement already satisfied: ptyprocess>=0.5 in /usr/local/lib/python3.7/dist-packages (from pexpect->IPython->import_ipynb) (0.7.0)\n",
            "Installing collected packages: jedi, import-ipynb\n",
            "Successfully installed import-ipynb-0.1.4 jedi-0.18.1\n",
            "Hit:1 http://archive.ubuntu.com/ubuntu bionic InRelease\n",
            "Get:2 https://cloud.r-project.org/bin/linux/ubuntu bionic-cran40/ InRelease [3,626 B]\n",
            "Get:3 http://archive.ubuntu.com/ubuntu bionic-updates InRelease [88.7 kB]\n",
            "Ign:4 https://developer.download.nvidia.com/compute/machine-learning/repos/ubuntu1804/x86_64  InRelease\n",
            "Hit:5 https://developer.download.nvidia.com/compute/cuda/repos/ubuntu1804/x86_64  InRelease\n",
            "Hit:6 https://developer.download.nvidia.com/compute/machine-learning/repos/ubuntu1804/x86_64  Release\n",
            "Get:7 http://security.ubuntu.com/ubuntu bionic-security InRelease [88.7 kB]\n",
            "Hit:8 http://ppa.launchpad.net/c2d4u.team/c2d4u4.0+/ubuntu bionic InRelease\n",
            "Get:9 http://archive.ubuntu.com/ubuntu bionic-backports InRelease [83.3 kB]\n",
            "Hit:10 http://ppa.launchpad.net/cran/libgit2/ubuntu bionic InRelease\n",
            "Get:11 http://ppa.launchpad.net/deadsnakes/ppa/ubuntu bionic InRelease [15.9 kB]\n",
            "Hit:12 http://ppa.launchpad.net/graphics-drivers/ppa/ubuntu bionic InRelease\n",
            "Get:14 http://archive.ubuntu.com/ubuntu bionic-updates/universe amd64 Packages [2,332 kB]\n",
            "Get:15 http://archive.ubuntu.com/ubuntu bionic-updates/multiverse amd64 Packages [37.1 kB]\n",
            "Get:16 http://archive.ubuntu.com/ubuntu bionic-updates/main amd64 Packages [3,467 kB]\n",
            "Get:17 http://archive.ubuntu.com/ubuntu bionic-updates/restricted amd64 Packages [1,257 kB]\n",
            "Get:18 http://archive.ubuntu.com/ubuntu bionic-backports/main amd64 Packages [64.0 kB]\n",
            "Get:19 http://archive.ubuntu.com/ubuntu bionic-backports/universe amd64 Packages [20.6 kB]\n",
            "Get:20 http://security.ubuntu.com/ubuntu bionic-security/restricted amd64 Packages [1,210 kB]\n",
            "Get:21 http://ppa.launchpad.net/deadsnakes/ppa/ubuntu bionic/main amd64 Packages [44.0 kB]\n",
            "Get:22 http://security.ubuntu.com/ubuntu bionic-security/main amd64 Packages [3,035 kB]\n",
            "Get:23 http://security.ubuntu.com/ubuntu bionic-security/universe amd64 Packages [1,554 kB]\n",
            "Fetched 13.3 MB in 4s (3,280 kB/s)\n",
            "Reading package lists... Done\n"
          ]
        }
      ]
    },
    {
      "cell_type": "code",
      "source": [
        "# import를 위한 경로이동\n",
        "%cd /content/drive/MyDrive/team_malmungchi/colab/speaker_verification/code\n",
        "!ls"
      ],
      "metadata": {
        "colab": {
          "base_uri": "https://localhost:8080/"
        },
        "id": "Z0v46fp4Weu4",
        "outputId": "728ab4d3-5df3-48e4-d157-9e382fc3b2e4"
      },
      "execution_count": null,
      "outputs": [
        {
          "output_type": "stream",
          "name": "stdout",
          "text": [
            "/content/drive/.shortcut-targets-by-id/1rEYIox5uYM9uP2spDttCYCqtt2GvSbn1/team_malmungchi/colab/speaker_verification/code\n",
            "batcher.ipynb\t\t constants.ipynb     fitter.ipynb      test_eer.ipynb\n",
            "call_development1.ipynb  convert.ipynb\t     loss.ipynb        utils.ipynb\n",
            "call_development2.ipynb  development.ipynb   network.ipynb\n",
            "call_development3.ipynb  eval_metrics.ipynb  preprocess.ipynb\n",
            "call_tflite.ipynb\t evaluation.ipynb    temp.wav\n"
          ]
        }
      ]
    },
    {
      "cell_type": "code",
      "source": [
        "import tensorflow as tf\n",
        "from tensorflow import keras\n",
        "import pickle\n",
        "import numpy as np\n",
        "\n",
        "import import_ipynb\n",
        "import network\n",
        "from utils import load_best_checkpoint"
      ],
      "metadata": {
        "id": "vow1YnIOGwW2",
        "colab": {
          "base_uri": "https://localhost:8080/"
        },
        "outputId": "3d9f28f7-d365-4e71-91c1-2e067fa3576f"
      },
      "execution_count": null,
      "outputs": [
        {
          "output_type": "stream",
          "name": "stdout",
          "text": [
            "importing Jupyter notebook from network.ipynb\n",
            "importing Jupyter notebook from eval_metrics.ipynb\n",
            "importing Jupyter notebook from utils.ipynb\n",
            "importing Jupyter notebook from constants.ipynb\n"
          ]
        }
      ]
    },
    {
      "cell_type": "code",
      "source": [
        "def convert(model_name, checkpoint_dir, model_path, use_LSTM=False):\n",
        "  Model = network.get_network(model_name)\n",
        "\n",
        "  best_ckpt = load_best_checkpoint(checkpoint_dir)\n",
        "  Model.load_weights(checkpoint_dir+'/'+best_ckpt)\n",
        "\n",
        "  if use_LSTM:\n",
        "    # lstm의 경우 특별히 명시해줘야 하는것이 있다.\n",
        "    # https://colab.research.google.com/github/tensorflow/tensorflow/blob/master/tensorflow/lite/examples/experimental_new_converter/Keras_LSTM_fusion_Codelab.ipynb#scrollTo=tB1NZBUHDogR\n",
        "    run_model = tf.function(lambda x: Model(x))\n",
        "    BATCH_SIZE = 1\n",
        "    STEPS = 49\n",
        "    INPUT_SIZE = 40\n",
        "    concrete_func = run_model.get_concrete_function(\n",
        "      tf.TensorSpec([BATCH_SIZE, STEPS, INPUT_SIZE], Model.inputs[0].dtype))\n",
        "\n",
        "    # model directory.\n",
        "    MODEL_DIR = \"lstm_tmp\"\n",
        "    Model.save(MODEL_DIR, save_format=\"tf\", signatures=concrete_func)\n",
        "\n",
        "    converter = tf.lite.TFLiteConverter.from_saved_model(MODEL_DIR)\n",
        "  else: converter = tf.lite.TFLiteConverter.from_keras_model(Model)\n",
        "\n",
        "  converter.optimizations = [tf.lite.Optimize.DEFAULT]\n",
        "  #converter._experimental_default_to_single_batch_in_tensor_list_ops = True # lstm의 경우 배치 크기가 1임을 명시해줘야한다.\n",
        "  \n",
        "  # input/output layer까지 int8로 양자화하려면 representative dataset이 필요하다.\n",
        "  with open('../data/dataset/train_cpp_1581_200_49_40.pickle',\"rb\") as f:\n",
        "    X = pickle.load(f)\n",
        "    X = np.concatenate(X)\n",
        "    X = X.astype(np.float32)\n",
        "  def representative_data_gen():\n",
        "    for input_value in X:\n",
        "      yield [input_value]\n",
        "  converter.representative_dataset = representative_data_gen\n",
        "  converter.target_spec.supported_ops = [tf.lite.OpsSet.TFLITE_BUILTINS_INT8]\n",
        "  converter.inference_input_type = tf.int8\n",
        "  converter.inference_output_type = tf.int8\n",
        "\n",
        "  tflite_model = converter.convert()\n",
        "  open(model_path+\"/\"+checkpoint_dir.split('/')[-1]+\".tflite\", \"wb\").write(tflite_model)"
      ],
      "metadata": {
        "id": "rUqrEctzdjCo"
      },
      "execution_count": null,
      "outputs": []
    },
    {
      "cell_type": "code",
      "source": [
        "convert('arduino_CRNN','../model/arduino_CRNN-naive_batcher-cross_entropy', '../model', use_LSTM=True)"
      ],
      "metadata": {
        "id": "kve5H4-edjVY",
        "colab": {
          "base_uri": "https://localhost:8080/"
        },
        "outputId": "f9ee5c91-da24-426e-e3bf-29ec28d000cf"
      },
      "execution_count": null,
      "outputs": [
        {
          "output_type": "stream",
          "name": "stderr",
          "text": [
            "WARNING:tensorflow:Compiled the loaded model, but the compiled metrics have yet to be built. `model.compile_metrics` will be empty until you train or evaluate the model.\n",
            "WARNING:absl:Found untraced functions such as _jit_compiled_convolution_op, _jit_compiled_convolution_op, lstm_cell_6_layer_call_fn, lstm_cell_6_layer_call_and_return_conditional_losses while saving (showing 4 of 4). These functions will not be directly callable after loading.\n"
          ]
        }
      ]
    },
    {
      "cell_type": "code",
      "source": [
        "%cd ..\n",
        "%cd model\n",
        "!ls"
      ],
      "metadata": {
        "id": "4arDONosH5yr",
        "colab": {
          "base_uri": "https://localhost:8080/"
        },
        "outputId": "9510a9b7-0b85-4a9b-ecf6-b65cd5494f35"
      },
      "execution_count": null,
      "outputs": [
        {
          "output_type": "stream",
          "name": "stdout",
          "text": [
            "/content/drive/.shortcut-targets-by-id/1rEYIox5uYM9uP2spDttCYCqtt2GvSbn1/team_malmungchi/colab/speaker_verification\n",
            "/content/drive/.shortcut-targets-by-id/1rEYIox5uYM9uP2spDttCYCqtt2GvSbn1/team_malmungchi/colab/speaker_verification/model\n",
            "ACRNN-naive_batcher-cross_entropy\n",
            "ACRNN-simMat_batcher-simMat_loss\n",
            "ACRNN-simMat_batcher-simMat_loss--transferedFrom--ACRNN-naive_batcher-cross_entropy\n",
            "ADRNN-naive_batcher-cross_entropy\n",
            "ADRNN-simMat_batcher-simMat_loss\n",
            "ADRNN-simMat_batcher-simMat_loss-931-large--transferedFrom--ADRNN-naive_batcher-cross_entropy\n",
            "ADRNN-simMat_batcher-simMat_loss-931--transferedFrom--ADRNN-naive_batcher-cross_entropy\n",
            "ADRNN-simMat_batcher-simMat_loss--transferedFrom--ADRNN-naive_batcher-cross_entropy\n",
            "arduino_CNN-naive_batcher-cross_entropy\n",
            "arduino_CNN-naive_batcher-cross_entropy.cc\n",
            "arduino_CNN-naive_batcher-cross_entropy-noCustom.cc\n",
            "arduino_CNN-naive_batcher-cross_entropy-noCustom.tflite\n",
            "arduino_CNN-naive_batcher-cross_entropy.tflite\n",
            "arduino_CRNN-naive_batcher-cross_entropy\n",
            "arduino_CRNN-naive_batcher-cross_entropy.cc\n",
            "arduino_CRNN-naive_batcher-cross_entropy.tflite\n",
            "CNN-naive_batcher-cross_entropy\n",
            "CNN-naive_batcher-cross_entropy.cc\n",
            "CNN-naive_batcher-cross_entropy.tflite\n",
            "CNN-simMat_batcher-simMat_loss-931-large--transferedFrom--CNN-naive_batcher-cross_entropy\n",
            "CRNN-simMat_batcher-simMat_loss-931\n",
            "CRNN-simMat_batcher-simMat_loss-931-large\n",
            "micro_speech.cc\n",
            "micro_speech.tflite\n",
            "modCRNN-naive_batcher-cross_entropy\n",
            "modCRNN-simMat_batcher-simMat_loss\n",
            "tiny_CNN-naive_batcher-cross_entropy\n",
            "tiny_CNN-naive_batcher-cross_entropy.cc\n",
            "tiny_CNN-naive_batcher-cross_entropy.tflite\n",
            "tiny_CRNN-naive_batcher-cross_entropy\n",
            "tiny_CRNN-naive_batcher-cross_entropy.cc\n",
            "tiny_CRNN-naive_batcher-cross_entropy.tflite\n"
          ]
        }
      ]
    },
    {
      "cell_type": "code",
      "source": [
        "!xxd -i arduino_CRNN-naive_batcher-cross_entropy.tflite > arduino_CRNN-naive_batcher-cross_entropy.cc"
      ],
      "metadata": {
        "id": "jvb-IqgcHwAM"
      },
      "execution_count": null,
      "outputs": []
    },
    {
      "cell_type": "code",
      "source": [],
      "metadata": {
        "id": "mcxlmhSYWl_v"
      },
      "execution_count": null,
      "outputs": []
    }
  ]
}