{
  "cells": [
    {
      "cell_type": "markdown",
      "metadata": {
        "id": "view-in-github",
        "colab_type": "text"
      },
      "source": [
        "<a href=\"https://colab.research.google.com/github/arjasc5231/Lingometer/blob/speaker_verification/speaker_verificaiton/development.ipynb\" target=\"_parent\"><img src=\"https://colab.research.google.com/assets/colab-badge.svg\" alt=\"Open In Colab\"/></a>"
      ]
    },
    {
      "cell_type": "code",
      "source": [
        "from google.colab import drive\n",
        "drive.mount('/content/drive')"
      ],
      "metadata": {
        "colab": {
          "base_uri": "https://localhost:8080/"
        },
        "id": "2PEsKQpkEJVG",
        "outputId": "4e8950ad-2a85-45d3-90d9-cacb7d51f6fd"
      },
      "id": "2PEsKQpkEJVG",
      "execution_count": null,
      "outputs": [
        {
          "output_type": "stream",
          "name": "stdout",
          "text": [
            "Mounted at /content/drive\n"
          ]
        }
      ]
    },
    {
      "cell_type": "code",
      "source": [
        "!pip install import_ipynb"
      ],
      "metadata": {
        "colab": {
          "base_uri": "https://localhost:8080/"
        },
        "id": "xdDOXg5EEoCE",
        "outputId": "86b7f91f-0136-4c80-8f3e-d8cbe30caab0"
      },
      "id": "xdDOXg5EEoCE",
      "execution_count": null,
      "outputs": [
        {
          "output_type": "stream",
          "name": "stdout",
          "text": [
            "Looking in indexes: https://pypi.org/simple, https://us-python.pkg.dev/colab-wheels/public/simple/\n",
            "Collecting import_ipynb\n",
            "  Downloading import_ipynb-0.1.4-py3-none-any.whl (4.1 kB)\n",
            "Requirement already satisfied: nbformat in /usr/local/lib/python3.7/dist-packages (from import_ipynb) (5.4.0)\n",
            "Requirement already satisfied: IPython in /usr/local/lib/python3.7/dist-packages (from import_ipynb) (5.5.0)\n",
            "Requirement already satisfied: traitlets>=4.2 in /usr/local/lib/python3.7/dist-packages (from IPython->import_ipynb) (5.1.1)\n",
            "Requirement already satisfied: pexpect in /usr/local/lib/python3.7/dist-packages (from IPython->import_ipynb) (4.8.0)\n",
            "Requirement already satisfied: simplegeneric>0.8 in /usr/local/lib/python3.7/dist-packages (from IPython->import_ipynb) (0.8.1)\n",
            "Requirement already satisfied: pickleshare in /usr/local/lib/python3.7/dist-packages (from IPython->import_ipynb) (0.7.5)\n",
            "Requirement already satisfied: pygments in /usr/local/lib/python3.7/dist-packages (from IPython->import_ipynb) (2.6.1)\n",
            "Requirement already satisfied: decorator in /usr/local/lib/python3.7/dist-packages (from IPython->import_ipynb) (4.4.2)\n",
            "Requirement already satisfied: setuptools>=18.5 in /usr/local/lib/python3.7/dist-packages (from IPython->import_ipynb) (57.4.0)\n",
            "Requirement already satisfied: prompt-toolkit<2.0.0,>=1.0.4 in /usr/local/lib/python3.7/dist-packages (from IPython->import_ipynb) (1.0.18)\n",
            "Requirement already satisfied: six>=1.9.0 in /usr/local/lib/python3.7/dist-packages (from prompt-toolkit<2.0.0,>=1.0.4->IPython->import_ipynb) (1.15.0)\n",
            "Requirement already satisfied: wcwidth in /usr/local/lib/python3.7/dist-packages (from prompt-toolkit<2.0.0,>=1.0.4->IPython->import_ipynb) (0.2.5)\n",
            "Requirement already satisfied: jsonschema>=2.6 in /usr/local/lib/python3.7/dist-packages (from nbformat->import_ipynb) (4.3.3)\n",
            "Requirement already satisfied: fastjsonschema in /usr/local/lib/python3.7/dist-packages (from nbformat->import_ipynb) (2.16.1)\n",
            "Requirement already satisfied: jupyter-core in /usr/local/lib/python3.7/dist-packages (from nbformat->import_ipynb) (4.11.1)\n",
            "Requirement already satisfied: importlib-metadata in /usr/local/lib/python3.7/dist-packages (from jsonschema>=2.6->nbformat->import_ipynb) (4.12.0)\n",
            "Requirement already satisfied: importlib-resources>=1.4.0 in /usr/local/lib/python3.7/dist-packages (from jsonschema>=2.6->nbformat->import_ipynb) (5.9.0)\n",
            "Requirement already satisfied: typing-extensions in /usr/local/lib/python3.7/dist-packages (from jsonschema>=2.6->nbformat->import_ipynb) (4.1.1)\n",
            "Requirement already satisfied: pyrsistent!=0.17.0,!=0.17.1,!=0.17.2,>=0.14.0 in /usr/local/lib/python3.7/dist-packages (from jsonschema>=2.6->nbformat->import_ipynb) (0.18.1)\n",
            "Requirement already satisfied: attrs>=17.4.0 in /usr/local/lib/python3.7/dist-packages (from jsonschema>=2.6->nbformat->import_ipynb) (22.1.0)\n",
            "Requirement already satisfied: zipp>=3.1.0 in /usr/local/lib/python3.7/dist-packages (from importlib-resources>=1.4.0->jsonschema>=2.6->nbformat->import_ipynb) (3.8.1)\n",
            "Requirement already satisfied: ptyprocess>=0.5 in /usr/local/lib/python3.7/dist-packages (from pexpect->IPython->import_ipynb) (0.7.0)\n",
            "Installing collected packages: import-ipynb\n",
            "Successfully installed import-ipynb-0.1.4\n"
          ]
        }
      ]
    },
    {
      "cell_type": "code",
      "source": [
        "%cd /content/drive/MyDrive/team_malmungchi/colab/speaker_verification/code\n",
        "!ls"
      ],
      "metadata": {
        "colab": {
          "base_uri": "https://localhost:8080/"
        },
        "id": "U6bCCOwfHgx8",
        "outputId": "bb12c58a-eb55-45bb-9dad-8461dcba6ebf"
      },
      "id": "U6bCCOwfHgx8",
      "execution_count": null,
      "outputs": [
        {
          "output_type": "stream",
          "name": "stdout",
          "text": [
            "/content/drive/.shortcut-targets-by-id/1rEYIox5uYM9uP2spDttCYCqtt2GvSbn1/2022 기술 혁신 실험/colab/speaker_verification/code\n",
            "'ACRNN.ipynb의 사본'   constants.ipynb\t   fitter.ipynb   network.ipynb\n",
            " batcher.ipynb\t       development.ipynb   loss.ipynb\t  preprocess.ipynb\n"
          ]
        }
      ]
    },
    {
      "cell_type": "code",
      "execution_count": null,
      "id": "9febc15e",
      "metadata": {
        "colab": {
          "base_uri": "https://localhost:8080/"
        },
        "id": "9febc15e",
        "outputId": "d15353c5-f697-4496-f66d-24b16720f4ab"
      },
      "outputs": [
        {
          "output_type": "stream",
          "name": "stdout",
          "text": [
            "importing Jupyter notebook from constants.ipynb\n",
            "importing Jupyter notebook from batcher.ipynb\n",
            "importing Jupyter notebook from network.ipynb\n",
            "importing Jupyter notebook from loss.ipynb\n",
            "importing Jupyter notebook from fitter.ipynb\n"
          ]
        }
      ],
      "source": [
        "import os\n",
        "import sys\n",
        "import tensorflow as tf\n",
        "from tensorflow.keras.callbacks import ReduceLROnPlateau, EarlyStopping, ModelCheckpoint\n",
        "from tensorflow.keras.optimizers import SGD\n",
        "\n",
        "#sys.path.append(\"/content/drive/MyDrive/team_malmungchi/colab/speaker_verification/code\")\n",
        "import import_ipynb\n",
        "from constants import CHECKPOINTS_DIR, NUM_FRAME, NUM_FBANK\n",
        "import batcher\n",
        "import network\n",
        "import loss\n",
        "import fitter"
      ]
    },
    {
      "cell_type": "code",
      "execution_count": null,
      "id": "3dae175d",
      "metadata": {
        "id": "3dae175d"
      },
      "outputs": [],
      "source": [
        " def train(checkpoint_dir, batcher_name, model_name, loss_name, fit_name):\n",
        "    \n",
        "    # Batcher 로드\n",
        "    Batcher = batcher.get_batcher(batcher_name, None, '../data/naive_batcher')\n",
        "    num_speaker= Batcher.num_speaker\n",
        "\n",
        "    # optimizer, loss 객체 생성\n",
        "    optimizer = tf.optimizers.Adam(learning_rate=0.001)\n",
        "    Loss = loss.get_loss(loss_name)\n",
        "    \n",
        "    # 모델 생성\n",
        "    Model = network.get_network(model_name, num_speaker)\n",
        "    Model.summary()\n",
        "    Model.compile(optimizer='adam', loss=Loss, metrics=['accuracy']) # 이것도 metric이 경우마다 달라질 수 있겠다.\n",
        "    \n",
        "    # 에폭 설정\n",
        "    initial_epoch, max_epoch = 0, 500\n",
        "    \n",
        "    \"\"\"\n",
        "    # 체크포인트 로드. TODO : name별로 다른 체크포인트 폴더 만들기.\n",
        "    ensures_dir(CHECKPOINTS_DIR)\n",
        "    pre_training_checkpoint = load_best_checkpoint(CHECKPOINTS_DIR)\n",
        "    if pre_training_checkpoint:\n",
        "        initial_epoch = int(pre_training_checkpoint.split('/')[-1].split('.')[0].split('_')[-1])\n",
        "        Molde.m.load_weights(pre_training_checkpoint)  # latest one.\n",
        "    \n",
        "    # 체크포인트 객체 생성\n",
        "    checkpoint_name = dsm.m.name + '_checkpoint'\n",
        "    checkpoint_filename = os.path.join(CHECKPOINTS_DIR, checkpoint_name + '_{epoch}.h5')\n",
        "    checkpoint = ModelCheckpoint(monitor='val_accuracy', filepath=checkpoint_filename, save_best_only=True)\n",
        "    \n",
        "    # early_stopping 객체 생성\n",
        "    early_stopping = EarlyStopping(monitor='val_accuracy', min_delta=0.001, patience=20, verbose=1, mode='max')\n",
        "\n",
        "    # reduce_lr 객체 생성\n",
        "    reduce_lr = ReduceLROnPlateau(monitor='val_accuracy', factor=0.5, patience=10, min_lr=0.0001, verbose=1)\n",
        "    \"\"\"\n",
        "    \n",
        "    # train\n",
        "    fitter.fit(fit_name, Model, Batcher, loss, initial_epoch, max_epoch)\n",
        "    \n",
        "    # validation 필요\n",
        "    \n",
        "    "
      ]
    },
    {
      "cell_type": "code",
      "execution_count": null,
      "id": "e6e6591d",
      "metadata": {
        "scrolled": true,
        "colab": {
          "base_uri": "https://localhost:8080/"
        },
        "id": "e6e6591d",
        "outputId": "e94d8f3b-4871-4bb7-e485-d6af9d744222"
      },
      "outputs": [
        {
          "output_type": "stream",
          "name": "stdout",
          "text": [
            "load exist data\n",
            "Model: \"model\"\n",
            "_________________________________________________________________\n",
            " Layer (type)                Output Shape              Param #   \n",
            "=================================================================\n",
            " input_1 (InputLayer)        [(None, 128, 128, 1)]     0         \n",
            "                                                                 \n",
            " conv2d (Conv2D)             (None, 126, 126, 32)      320       \n",
            "                                                                 \n",
            " max_pooling2d (MaxPooling2D  (None, 63, 63, 32)       0         \n",
            " )                                                               \n",
            "                                                                 \n",
            " conv2d_1 (Conv2D)           (None, 61, 61, 64)        18496     \n",
            "                                                                 \n",
            " max_pooling2d_1 (MaxPooling  (None, 31, 31, 64)       0         \n",
            " 2D)                                                             \n",
            "                                                                 \n",
            " conv2d_2 (Conv2D)           (None, 29, 29, 128)       73856     \n",
            "                                                                 \n",
            " max_pooling2d_2 (MaxPooling  (None, 15, 15, 128)      0         \n",
            " 2D)                                                             \n",
            "                                                                 \n",
            " flatten (Flatten)           (None, 28800)             0         \n",
            "                                                                 \n",
            " dense (Dense)               (None, 167)               4809767   \n",
            "                                                                 \n",
            "=================================================================\n",
            "Total params: 4,902,439\n",
            "Trainable params: 4,902,439\n",
            "Non-trainable params: 0\n",
            "_________________________________________________________________\n",
            "(40080, 128, 128, 1)\n",
            "(40080,)\n",
            "(10020, 128, 128, 1)\n",
            "(10020,)\n",
            "Epoch 1/500\n",
            "401/401 [==============================] - 35s 56ms/step - loss: 2.9906 - accuracy: 0.3248 - val_loss: 2.0179 - val_accuracy: 0.4870\n",
            "Epoch 2/500\n",
            "401/401 [==============================] - 21s 52ms/step - loss: 1.4951 - accuracy: 0.6193 - val_loss: 1.6968 - val_accuracy: 0.5665\n",
            "Epoch 3/500\n",
            "401/401 [==============================] - 21s 52ms/step - loss: 1.1306 - accuracy: 0.7056 - val_loss: 1.5690 - val_accuracy: 0.6042\n",
            "Epoch 4/500\n",
            "401/401 [==============================] - 21s 53ms/step - loss: 0.9366 - accuracy: 0.7499 - val_loss: 1.5802 - val_accuracy: 0.6023\n",
            "Epoch 5/500\n",
            "401/401 [==============================] - 21s 53ms/step - loss: 0.7916 - accuracy: 0.7869 - val_loss: 1.6156 - val_accuracy: 0.6100\n",
            "Epoch 6/500\n",
            "401/401 [==============================] - 21s 53ms/step - loss: 0.6580 - accuracy: 0.8210 - val_loss: 1.7012 - val_accuracy: 0.5978\n",
            "Epoch 7/500\n",
            "401/401 [==============================] - 21s 53ms/step - loss: 0.5078 - accuracy: 0.8584 - val_loss: 1.7779 - val_accuracy: 0.6029\n",
            "Epoch 8/500\n",
            "401/401 [==============================] - 21s 53ms/step - loss: 0.3546 - accuracy: 0.8995 - val_loss: 1.9508 - val_accuracy: 0.5992\n",
            "Epoch 9/500\n",
            "401/401 [==============================] - 21s 53ms/step - loss: 0.2342 - accuracy: 0.9300 - val_loss: 2.1716 - val_accuracy: 0.6007\n",
            "Epoch 10/500\n",
            "401/401 [==============================] - 21s 53ms/step - loss: 0.1580 - accuracy: 0.9519 - val_loss: 2.3798 - val_accuracy: 0.6095\n",
            "Epoch 11/500\n",
            "401/401 [==============================] - 21s 53ms/step - loss: 0.1254 - accuracy: 0.9618 - val_loss: 2.7447 - val_accuracy: 0.5827\n",
            "Epoch 12/500\n",
            "401/401 [==============================] - 21s 53ms/step - loss: 0.1073 - accuracy: 0.9660 - val_loss: 2.9382 - val_accuracy: 0.5988\n",
            "Epoch 13/500\n",
            "401/401 [==============================] - 21s 53ms/step - loss: 0.0954 - accuracy: 0.9697 - val_loss: 2.8711 - val_accuracy: 0.6022\n",
            "Epoch 14/500\n",
            "401/401 [==============================] - 21s 53ms/step - loss: 0.0885 - accuracy: 0.9719 - val_loss: 3.2323 - val_accuracy: 0.5898\n",
            "Epoch 15/500\n",
            "401/401 [==============================] - 21s 54ms/step - loss: 0.0769 - accuracy: 0.9742 - val_loss: 3.2188 - val_accuracy: 0.5845\n",
            "Epoch 16/500\n",
            "401/401 [==============================] - 21s 53ms/step - loss: 0.0678 - accuracy: 0.9774 - val_loss: 3.5700 - val_accuracy: 0.5917\n",
            "Epoch 17/500\n",
            "401/401 [==============================] - 22s 55ms/step - loss: 0.0650 - accuracy: 0.9788 - val_loss: 3.2901 - val_accuracy: 0.5953\n",
            "Epoch 18/500\n",
            "401/401 [==============================] - 22s 55ms/step - loss: 0.0599 - accuracy: 0.9803 - val_loss: 3.6700 - val_accuracy: 0.5830\n",
            "Epoch 19/500\n",
            "401/401 [==============================] - 21s 53ms/step - loss: 0.0576 - accuracy: 0.9810 - val_loss: 3.7074 - val_accuracy: 0.5768\n",
            "Epoch 20/500\n",
            "401/401 [==============================] - 21s 53ms/step - loss: 0.0374 - accuracy: 0.9875 - val_loss: 3.8591 - val_accuracy: 0.5845\n",
            "Epoch 21/500\n",
            "401/401 [==============================] - 21s 53ms/step - loss: 0.0386 - accuracy: 0.9873 - val_loss: 4.0033 - val_accuracy: 0.5746\n",
            "Epoch 22/500\n",
            "401/401 [==============================] - 21s 53ms/step - loss: 0.0479 - accuracy: 0.9846 - val_loss: 3.7867 - val_accuracy: 0.5933\n",
            "Epoch 23/500\n",
            "249/401 [=================>............] - ETA: 7s - loss: 0.0309 - accuracy: 0.9897"
          ]
        }
      ],
      "source": [
        "train(None, 'naive_batcher', 'naive_model', 'cross_entropy', 'naive_fit')"
      ]
    },
    {
      "cell_type": "code",
      "execution_count": null,
      "id": "17930356",
      "metadata": {
        "id": "17930356"
      },
      "outputs": [],
      "source": [
        ""
      ]
    }
  ],
  "metadata": {
    "kernelspec": {
      "display_name": "Python 3 (ipykernel)",
      "language": "python",
      "name": "python3"
    },
    "language_info": {
      "codemirror_mode": {
        "name": "ipython",
        "version": 3
      },
      "file_extension": ".py",
      "mimetype": "text/x-python",
      "name": "python",
      "nbconvert_exporter": "python",
      "pygments_lexer": "ipython3",
      "version": "3.9.12"
    },
    "colab": {
      "name": "development.ipynb",
      "provenance": [],
      "collapsed_sections": [],
      "include_colab_link": true
    },
    "accelerator": "GPU",
    "gpuClass": "standard"
  },
  "nbformat": 4,
  "nbformat_minor": 5
}