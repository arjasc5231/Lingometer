{
  "cells": [
    {
      "cell_type": "markdown",
      "metadata": {
        "id": "view-in-github",
        "colab_type": "text"
      },
      "source": [
        "<a href=\"https://colab.research.google.com/github/arjasc5231/Lingometer/blob/speaker_verification/speaker_verificaiton/batcher.ipynb\" target=\"_parent\"><img src=\"https://colab.research.google.com/assets/colab-badge.svg\" alt=\"Open In Colab\"/></a>"
      ]
    },
    {
      "cell_type": "code",
      "execution_count": null,
      "id": "4419aa6f",
      "metadata": {
        "id": "4419aa6f",
        "outputId": "011bdbb2-3da8-43b7-e468-92f9bc59502b"
      },
      "outputs": [
        {
          "name": "stdout",
          "output_type": "stream",
          "text": [
            "1\n"
          ]
        }
      ],
      "source": [
        "import numpy as np\n",
        "import os\n",
        "import pickle\n",
        "import random\n",
        "\n",
        "import import_ipynb\n",
        "from constants import NUM_FBANK, HOP_LENGTH, NUM_PER_SPEAKER, NUM_FRAME"
      ]
    },
    {
      "cell_type": "code",
      "execution_count": null,
      "id": "58220255",
      "metadata": {
        "id": "58220255",
        "outputId": "bf1a538e-2f49-4257-9fe5-abd967f4a708"
      },
      "outputs": [
        {
          "ename": "NameError",
          "evalue": "name 'NUM_FRAME' is not defined",
          "output_type": "error",
          "traceback": [
            "\u001b[1;31m---------------------------------------------------------------------------\u001b[0m",
            "\u001b[1;31mNameError\u001b[0m                                 Traceback (most recent call last)",
            "Input \u001b[1;32mIn [2]\u001b[0m, in \u001b[0;36m<cell line: 1>\u001b[1;34m()\u001b[0m\n\u001b[1;32m----> 1\u001b[0m \u001b[38;5;28;01mclass\u001b[39;00m \u001b[38;5;21;01mnaive_batcher\u001b[39;00m:\n\u001b[0;32m      2\u001b[0m     \u001b[38;5;28;01mdef\u001b[39;00m \u001b[38;5;21m__init__\u001b[39m(\u001b[38;5;28mself\u001b[39m, input_dir, output_dir):\n\u001b[0;32m      3\u001b[0m         \u001b[38;5;28mself\u001b[39m\u001b[38;5;241m.\u001b[39mname \u001b[38;5;241m=\u001b[39m \u001b[38;5;124m'\u001b[39m\u001b[38;5;124mnaive_batcher\u001b[39m\u001b[38;5;124m'\u001b[39m\n",
            "Input \u001b[1;32mIn [2]\u001b[0m, in \u001b[0;36mnaive_batcher\u001b[1;34m()\u001b[0m\n\u001b[0;32m      9\u001b[0m     \u001b[38;5;28mself\u001b[39m\u001b[38;5;241m.\u001b[39mfilename \u001b[38;5;241m=\u001b[39m os\u001b[38;5;241m.\u001b[39mlistdir(\u001b[38;5;28mself\u001b[39m\u001b[38;5;241m.\u001b[39moutput_dir)[\u001b[38;5;241m0\u001b[39m]\n\u001b[0;32m     10\u001b[0m     \u001b[38;5;28mself\u001b[39m\u001b[38;5;241m.\u001b[39mnum_speaker \u001b[38;5;241m=\u001b[39m \u001b[38;5;28mint\u001b[39m(\u001b[38;5;28mself\u001b[39m\u001b[38;5;241m.\u001b[39mfilename\u001b[38;5;241m.\u001b[39msplit(\u001b[38;5;124m'\u001b[39m\u001b[38;5;124m_\u001b[39m\u001b[38;5;124m'\u001b[39m)[\u001b[38;5;241m-\u001b[39m\u001b[38;5;241m4\u001b[39m])\n\u001b[1;32m---> 12\u001b[0m \u001b[38;5;28;01mdef\u001b[39;00m \u001b[38;5;21mgenerate\u001b[39m(\u001b[38;5;28mself\u001b[39m, num_frame\u001b[38;5;241m=\u001b[39m\u001b[43mNUM_FRAME\u001b[49m, num_per_speaker\u001b[38;5;241m=\u001b[39mNUM_PER_SPEAKER):\n\u001b[0;32m     13\u001b[0m     \u001b[38;5;66;03m#if len(os.listdir(self.output_dir))!=0: error()\u001b[39;00m\n\u001b[0;32m     14\u001b[0m     X \u001b[38;5;241m=\u001b[39m []\n\u001b[0;32m     15\u001b[0m     Y \u001b[38;5;241m=\u001b[39m []\n",
            "\u001b[1;31mNameError\u001b[0m: name 'NUM_FRAME' is not defined"
          ]
        }
      ],
      "source": [
        "class naive_batcher:\n",
        "    def __init__(self, input_dir, output_dir):\n",
        "        self.name = 'naive_batcher'\n",
        "        self.input_dir = input_dir\n",
        "        self.output_dir = output_dir\n",
        "        \n",
        "        if len(os.listdir(self.output_dir))==0: self.generate()\n",
        "        else: print('load exist data')\n",
        "        self.filename = os.listdir(self.output_dir)[0]\n",
        "        self.num_speaker = int(self.filename.split('_')[-4])\n",
        "    \n",
        "    def generate(self, num_frame=NUM_FRAME, num_per_speaker=NUM_PER_SPEAKER):\n",
        "        #if len(os.listdir(self.output_dir))!=0: error()\n",
        "        X = []\n",
        "        Y = []\n",
        "        speaker_id = 0        \n",
        "        \n",
        "        for speaker in os.listdir(self.input_dir):\n",
        "            X_speaker = []\n",
        "            for utt in os.listdir(self.input_dir+'/'+speaker):\n",
        "                spec = np.load(self.input_dir+'/'+speaker+'/'+utt)\n",
        "                for i in range(0,spec.shape[0]-num_frame+1,num_frame): X_speaker.append(spec[i:i+num_frame,:])\n",
        "                if len(X_speaker)>=num_per_speaker: break\n",
        "            if len(X_speaker)<num_per_speaker: continue\n",
        "            X.extend(X_speaker[:num_per_speaker])\n",
        "            Y.extend([speaker_id]*num_per_speaker)\n",
        "            speaker_id+=1\n",
        "        X = np.array(X)\n",
        "        Y = np.array(Y)\n",
        "        \n",
        "        # shuffle utterances\n",
        "        shuffle_idx = np.arange(X.shape[0])\n",
        "        np.random.shuffle(shuffle_idx)\n",
        "        X = X[shuffle_idx]\n",
        "        Y = Y[shuffle_idx]\n",
        "        \n",
        "        # split train/test\n",
        "        split_idx = int(X.shape[0]*0.8)\n",
        "        X_train, X_test, Y_train, Y_test = X[:split_idx], X[split_idx:], Y[:split_idx], Y[split_idx:]\n",
        "        \n",
        "        # print information\n",
        "        print()\n",
        "        print('generate train/test dataset')\n",
        "        print('shape:', X_train.shape, X_test.shape, Y_train.shape, Y_test.shape)\n",
        "        \n",
        "        # save\n",
        "        XY = (X_train, X_test, Y_train, Y_test)\n",
        "        with open(self.output_dir+'/'+f\"{speaker_id}_{NUM_PER_SPEAKER}_{NUM_FRAME}_{NUM_FBANK}.npy\",'wb') as f:\n",
        "            pickle.dump(XY,f)\n",
        "        \n",
        "    def load_data(self):\n",
        "        with open(self.output_dir+'/'+self.filename,\"rb\") as f:\n",
        "            return pickle.load(f)"
      ]
    },
    {
      "cell_type": "code",
      "execution_count": null,
      "id": "25305ca6",
      "metadata": {
        "id": "25305ca6"
      },
      "outputs": [],
      "source": [
        "def get_batcher(batcher_name, input_dir, output_dir):\n",
        "    if batcher_name=='naive_batcher': return naive_batcher(input_dir, output_dir)\n",
        "    \n",
        "    "
      ]
    },
    {
      "cell_type": "code",
      "execution_count": null,
      "id": "3cb7d8ee",
      "metadata": {
        "id": "3cb7d8ee"
      },
      "outputs": [],
      "source": [
        ""
      ]
    }
  ],
  "metadata": {
    "kernelspec": {
      "display_name": "Python 3 (ipykernel)",
      "language": "python",
      "name": "python3"
    },
    "language_info": {
      "codemirror_mode": {
        "name": "ipython",
        "version": 3
      },
      "file_extension": ".py",
      "mimetype": "text/x-python",
      "name": "python",
      "nbconvert_exporter": "python",
      "pygments_lexer": "ipython3",
      "version": "3.9.12"
    },
    "colab": {
      "name": "batcher.ipynb",
      "provenance": [],
      "include_colab_link": true
    }
  },
  "nbformat": 4,
  "nbformat_minor": 5
}