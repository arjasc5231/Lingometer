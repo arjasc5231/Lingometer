{
  "cells": [
    {
      "cell_type": "code",
      "execution_count": null,
      "id": "4da1e179",
      "metadata": {
        "id": "4da1e179"
      },
      "outputs": [],
      "source": [
        "from tensorflow import keras\n",
        "import numpy as np\n",
        "import tensorflow as tf\n",
        "\n",
        "import import_ipynb\n",
        "from constants import NUM_SPEAKER_PER_BATCH, NUM_UTT_PER_SPEAKER"
      ]
    },
    {
      "cell_type": "code",
      "source": [
        "def simMat_loss(y_true, y_pred):\n",
        "\n",
        "  def normalize(x): return x/tf.sqrt(tf.reduce_sum(x**2, axis=-1, keepdims=True)+1e-6)\n",
        "\n",
        "  N = NUM_SPEAKER_PER_BATCH  # 화자 수\n",
        "  M = NUM_UTT_PER_SPEAKER   # 화자당 발화 수\n",
        "\n",
        "  embedded_split = tf.reshape(normalize(y_pred), shape=[N, M, -1])  # [N][M][P]\n",
        "\n",
        "  center = normalize(tf.reduce_mean(embedded_split, axis=1))  # 화자마다 모든 발화의 평균. [N][P]\n",
        "  center_except = normalize(tf.reshape(tf.reduce_sum(embedded_split, axis=1, keepdims=True)- embedded_split, shape=[N*M,-1]))  # 각 발화에 대해, 그 발화를 제외한 화자 내의 평균. [N][M][P]\n",
        "  \n",
        "  S = tf.concat(\n",
        "      [tf.concat([tf.reduce_sum(center_except[i*M:(i+1)*M,:]*embedded_split[j,:,:], axis=1, keepdims=True) if i==j\n",
        "                  else tf.reduce_sum(center[i:(i+1),:]*embedded_split[j,:,:], axis=1, keepdims=True) for i in range(N)],\n",
        "                  axis=1) for j in range(N)], axis=0)\n",
        "\n",
        "  S_correct = tf.concat([S[i*M:(i+1)*M, i:(i+1)] for i in range(N)], axis=0)\n",
        "  total = -tf.reduce_sum(S_correct-tf.math.log(tf.reduce_sum(tf.exp(S), axis=1, keepdims=True) + 1e-6))\n",
        "\n",
        "  return total"
      ],
      "metadata": {
        "id": "uBU76rveRlW-"
      },
      "id": "uBU76rveRlW-",
      "execution_count": null,
      "outputs": []
    },
    {
      "cell_type": "code",
      "execution_count": null,
      "id": "393c1d7b",
      "metadata": {
        "id": "393c1d7b"
      },
      "outputs": [],
      "source": [
        "def get_loss(loss_name):\n",
        "    if loss_name=='cross_entropy': return keras.losses.SparseCategoricalCrossentropy(from_logits=True)\n",
        "    elif loss_name=='simMat_loss': return simMat_loss"
      ]
    }
  ],
  "metadata": {
    "kernelspec": {
      "display_name": "Python 3 (ipykernel)",
      "language": "python",
      "name": "python3"
    },
    "language_info": {
      "codemirror_mode": {
        "name": "ipython",
        "version": 3
      },
      "file_extension": ".py",
      "mimetype": "text/x-python",
      "name": "python",
      "nbconvert_exporter": "python",
      "pygments_lexer": "ipython3",
      "version": "3.9.12"
    },
    "colab": {
      "provenance": []
    }
  },
  "nbformat": 4,
  "nbformat_minor": 5
}