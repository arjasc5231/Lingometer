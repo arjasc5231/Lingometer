{
  "cells": [
    {
      "cell_type": "markdown",
      "metadata": {
        "id": "view-in-github",
        "colab_type": "text"
      },
      "source": [
        "<a href=\"https://colab.research.google.com/github/arjasc5231/Lingometer/blob/speaker_verification/speaker_verification/constants.ipynb\" target=\"_parent\"><img src=\"https://colab.research.google.com/assets/colab-badge.svg\" alt=\"Open In Colab\"/></a>"
      ]
    },
    {
      "cell_type": "code",
      "execution_count": null,
      "id": "c6b17dc4",
      "metadata": {
        "id": "c6b17dc4"
      },
      "outputs": [],
      "source": [
        "# Constants.\n",
        "\n",
        "CHECKPOINTS_DIR = 'checkpoints'\n",
        "NUM_FRAME = 128\n",
        "NUM_FBANK = 512\n",
        "NUM_SPEC_PER_SPEAKER = 200 # 화자 당 평균 발화 수가 300, 현재 128*128=16384 /16000=1초 정도의 입력으로 받고 있으니.\n",
        "HOP_LENGTH = 128\n",
        "\n",
        "NUM_ENROLL_UTT = 5\n",
        "NUM_TRUE_UTT = 10\n",
        "NUM_FALSE_UTT = 10"
      ]
    }
  ],
  "metadata": {
    "kernelspec": {
      "display_name": "Python 3 (ipykernel)",
      "language": "python",
      "name": "python3"
    },
    "language_info": {
      "codemirror_mode": {
        "name": "ipython",
        "version": 3
      },
      "file_extension": ".py",
      "mimetype": "text/x-python",
      "name": "python",
      "nbconvert_exporter": "python",
      "pygments_lexer": "ipython3",
      "version": "3.9.12"
    },
    "colab": {
      "provenance": [],
      "include_colab_link": true
    }
  },
  "nbformat": 4,
  "nbformat_minor": 5
}