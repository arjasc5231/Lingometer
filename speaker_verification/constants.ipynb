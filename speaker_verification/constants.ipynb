{
  "cells": [
    {
      "cell_type": "code",
      "execution_count": null,
      "id": "c6b17dc4",
      "metadata": {
        "id": "c6b17dc4"
      },
      "outputs": [],
      "source": [
        "# Constants.\n",
        "\n",
        "CHECKPOINTS_DIR = 'checkpoints'\n",
        "NUM_FRAME = 49 # 일단 이것만 아두이노 버전으로 수정했다. 다른 상수도 아두이노 버전으로 수정하기.\n",
        "NUM_FBANK = 512\n",
        "NUM_SPEC_PER_SPEAKER = 200 # 화자 당 평균 발화 수가 300, 현재 128*128=16384 /16000=1초 정도의 입력으로 받고 있으니.\n",
        "HOP_LENGTH = 128\n",
        "\n",
        "NUM_ENROLL_UTT = 5\n",
        "NUM_TRUE_UTT = 10\n",
        "NUM_FALSE_UTT = 10\n",
        "\n",
        "# simMat batcher 상수\n",
        "NUM_SPEAKER_PER_BATCH = 64\n",
        "NUM_UTT_PER_SPEAKER = 10\n",
        "\n",
        "ARDUINO_OUTPUT = 10 # 기본 50"
      ]
    }
  ],
  "metadata": {
    "kernelspec": {
      "display_name": "Python 3 (ipykernel)",
      "language": "python",
      "name": "python3"
    },
    "language_info": {
      "codemirror_mode": {
        "name": "ipython",
        "version": 3
      },
      "file_extension": ".py",
      "mimetype": "text/x-python",
      "name": "python",
      "nbconvert_exporter": "python",
      "pygments_lexer": "ipython3",
      "version": "3.9.12"
    },
    "colab": {
      "provenance": []
    }
  },
  "nbformat": 4,
  "nbformat_minor": 5
}