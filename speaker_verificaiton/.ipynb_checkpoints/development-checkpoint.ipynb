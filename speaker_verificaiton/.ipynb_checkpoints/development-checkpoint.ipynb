{
 "cells": [
  {
   "cell_type": "code",
   "execution_count": 2,
   "id": "9febc15e",
   "metadata": {},
   "outputs": [],
   "source": [
    "import os\n",
    "from tqdm import tqdm\n",
    "\n",
    "import tensorflow as tf\n",
    "from tensorflow.keras.callbacks import ReduceLROnPlateau, EarlyStopping, ModelCheckpoint\n",
    "from tensorflow.keras.optimizers import SGD\n",
    "\n",
    "import import_ipynb\n",
    "from constants import CHECKPOINTS_DIR, NUM_FRAME, NUM_FBANK\n",
    "import batcher\n",
    "import network\n",
    "import loss\n",
    "import fitter\n",
    "from utils import load_best_checkpoint, ensures_dir  "
   ]
  },
  {
   "cell_type": "code",
   "execution_count": null,
   "id": "3dae175d",
   "metadata": {},
   "outputs": [],
   "source": [
    " def train(checkpoint_dir, batcher_name, model_name, loss_name, fit_name):\n",
    "    \n",
    "    # loss 로드\n",
    "    Loss = loss.get_loss(loss_name)\n",
    "    \n",
    "    # Batcher 로드\n",
    "    Batcher = batcher.get_batcher(batcher_name)\n",
    "    num_speaker= len(Batcher.num_speaker)\n",
    "    \n",
    "    # 모델 생성\n",
    "    Model = network.get_network(model_name)\n",
    "    Model.m.compile(optimizer='adam', loss=Loss)\n",
    "    \n",
    "    # 에폭 설정\n",
    "    initial_epoch, max_epoch = 0, 1000\n",
    "    \n",
    "    \"\"\"\n",
    "    # 체크포인트 로드. TODO : name별로 다른 체크포인트 폴더 만들기.\n",
    "    ensures_dir(CHECKPOINTS_DIR)\n",
    "    pre_training_checkpoint = load_best_checkpoint(CHECKPOINTS_DIR)\n",
    "    if pre_training_checkpoint:\n",
    "        initial_epoch = int(pre_training_checkpoint.split('/')[-1].split('.')[0].split('_')[-1])\n",
    "        Molde.m.load_weights(pre_training_checkpoint)  # latest one.\n",
    "    \n",
    "    # 체크포인트 객체 생성\n",
    "    checkpoint_name = dsm.m.name + '_checkpoint'\n",
    "    checkpoint_filename = os.path.join(CHECKPOINTS_DIR, checkpoint_name + '_{epoch}.h5')\n",
    "    checkpoint = ModelCheckpoint(monitor='val_accuracy', filepath=checkpoint_filename, save_best_only=True)\n",
    "    \n",
    "    # early_stopping 객체 생성\n",
    "    early_stopping = EarlyStopping(monitor='val_accuracy', min_delta=0.001, patience=20, verbose=1, mode='max')\n",
    "\n",
    "    # reduce_lr 객체 생성\n",
    "    reduce_lr = ReduceLROnPlateau(monitor='val_accuracy', factor=0.5, patience=10, min_lr=0.0001, verbose=1)\n",
    "    \"\"\"\n",
    "    \n",
    "    # train\n",
    "    fitter.fit(fit_name, Model, Batcher, loss, initial_epoch, max_epoch)\n",
    "    \n",
    "    # validation 필요\n",
    "    \n",
    "    "
   ]
  }
 ],
 "metadata": {
  "kernelspec": {
   "display_name": "Python 3",
   "language": "python",
   "name": "python3"
  },
  "language_info": {
   "codemirror_mode": {
    "name": "ipython",
    "version": 3
   },
   "file_extension": ".py",
   "mimetype": "text/x-python",
   "name": "python",
   "nbconvert_exporter": "python",
   "pygments_lexer": "ipython3",
   "version": "3.6.10"
  }
 },
 "nbformat": 4,
 "nbformat_minor": 5
}
