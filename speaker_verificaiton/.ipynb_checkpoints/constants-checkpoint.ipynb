{
 "cells": [
  {
   "cell_type": "code",
   "execution_count": 1,
   "id": "c6b17dc4",
   "metadata": {},
   "outputs": [],
   "source": [
    "# Constants.\n",
    "\n",
    "CHECKPOINTS_DIR = 'checkpoints'\n",
    "NUM_FRAME = 128\n",
    "NUM_FBANK = 512\n",
    "NUM_PER_SPEAKER = 1 # 내 노트북에 데이터가 많이 없어서 일단 1. 나중에 늘리기\n",
    "HOP_LENGTH = 128"
   ]
  }
 ],
 "metadata": {
  "kernelspec": {
   "display_name": "Python 3",
   "language": "python",
   "name": "python3"
  },
  "language_info": {
   "codemirror_mode": {
    "name": "ipython",
    "version": 3
   },
   "file_extension": ".py",
   "mimetype": "text/x-python",
   "name": "python",
   "nbconvert_exporter": "python",
   "pygments_lexer": "ipython3",
   "version": "3.6.10"
  }
 },
 "nbformat": 4,
 "nbformat_minor": 5
}
