{
  "cells": [
    {
      "cell_type": "markdown",
      "id": "a2ebe9f4",
      "metadata": {
        "id": "a2ebe9f4"
      },
      "source": [
        "<a href=\"https://colab.research.google.com/github/arjasc5231/Lingometer/blob/speaker_verification/speaker_verificaiton/batcher.ipynb\" target=\"_parent\"><img src=\"https://colab.research.google.com/assets/colab-badge.svg\" alt=\"Open In Colab\"/></a>"
      ]
    },
    {
      "cell_type": "code",
      "execution_count": null,
      "id": "4419aa6f",
      "metadata": {
        "id": "4419aa6f",
        "outputId": "011bdbb2-3da8-43b7-e468-92f9bc59502b"
      },
      "outputs": [
        {
          "name": "stdout",
          "output_type": "stream",
          "text": [
            "importing Jupyter notebook from constants.ipynb\n"
          ]
        }
      ],
      "source": [
        "import numpy as np\n",
        "import os\n",
        "import pickle\n",
        "import random\n",
        "\n",
        "import import_ipynb\n",
        "from constants import NUM_FBANK, HOP_LENGTH, NUM_SPEC_PER_SPEAKER, NUM_FRAME, NUM_ENROLL_UTT, NUM_TRUE_UTT, NUM_FALSE_UTT"
      ]
    },
    {
      "cell_type": "code",
      "execution_count": null,
      "id": "58220255",
      "metadata": {
        "id": "58220255"
      },
      "outputs": [],
      "source": [
        "\"\"\"\n",
        "speaker classification task를 위한 batcher\n",
        "data_path로부터 화자별 스펙트로그램[화자 수(N),스펙트로그램 수(M), 128, 128, 1]을 받아\n",
        "학습을 위한 형태 [N*M, 128, 128, 1]로 편집\n",
        "\n",
        "Pamameters:\n",
        "  data_path : 데이터셋(specs_of_speakers) 파일 경로\n",
        "\n",
        "Attributes:\n",
        "  X : 학습 데이터. [N*M,128,128,1]. [spk1_spec1,spk1_spec2,...,spk1_specM, spk2_spec1,spk2_spec2,...spk2_specM, spk3_spec1,...] 형태\n",
        "  Y : 학습 데이터의 라벨. [N*M]. [spk1,spk1,...,spk1, spk2,spk2,...,spk2, spk3,...] 형태\n",
        "\"\"\"\n",
        "class naive_batcher:\n",
        "  def __init__(self, data_path):\n",
        "    self.name = 'naive_batcher'\n",
        "    self.data_path = data_path\n",
        "    with open(self.data_path,\"rb\") as f:\n",
        "      specs_of_speakers = pickle.load(f)\n",
        "      self.X = np.concatenate(specs_of_speakers[:200])\n",
        "      del specs_of_speakers\n",
        "    self.Y = np.concatenate(np.array([[i]*NUM_SPEC_PER_SPEAKER for i in range(200)]))\n",
        "    \n",
        "    print('==================================================')\n",
        "    print('[batcher:naive] load train dataset')\n",
        "    print('shape of X :', self.X.shape)\n",
        "    print('shape of Y :', self.Y.shape)"
      ]
    },
    {
      "cell_type": "code",
      "source": [
        "\"\"\"\n",
        "similarity matrix를 위한 batcher\n",
        "data_path로부터 화자별 스펙트로그램[화자 수(N),스펙트로그램 수(M), 128, 128, 1]을 받아\n",
        "online으로 batch [5,]\n",
        "학습을 위한 형태 [N*M, 128, 128, 1]로 편집\n",
        "\n",
        "Pamameters:\n",
        "  data_path : 데이터셋(specs_of_speakers) 파일 경로\n",
        "\n",
        "Attributes:\n",
        "  X : 학습 데이터. [N*M,128,128,1]. [spk1_spec1,spk1_spec2,...,spk1_specM, spk2_spec1,spk2_spec2,...spk2_specM, spk3_spec1,...] 형태\n",
        "  Y : 학습 데이터의 라벨. [N*M]. [spk1,spk1,...,spk1, spk2,spk2,...,spk2, spk3,...] 형태\n",
        "\"\"\"\n",
        "class simMat_batcher:\n",
        "    def __init__(self, data_path):\n",
        "        self.name = 'simMat_batcher'\n",
        "        self.data_path = data_path\n",
        "        self.num_speaker = int(data_path.split('_')[-4])\n",
        "        with open(self.data_path,\"rb\") as f:\n",
        "            self.specs_of_speakers = pickle.load(f)\n",
        "\n",
        "        print('==================================================')\n",
        "        print('[batcher:simMat] load train dataset')\n",
        "        print('shape of data :', self.specs_of_speakers.shape)\n",
        "\n",
        "\n",
        "    # num_speaker_per_batch : 배치당 화자 수. 논문=64 출처코드=4\n",
        "    # num_utt_per_speaker : 배치당 화자마다 발화 수. 논문=10 출처코드=5\n",
        "    def get_batch(self, num_speaker_per_batch=10, num_utt_per_speaker=5):\n",
        "\n",
        "        batch = []\n",
        "        speakers = np.random.choice(self.num_speaker, num_speaker_per_batch, replace=False)\n",
        "        for speaker in speakers:\n",
        "            utts_idx = np.random.choice(NUM_SPEC_PER_SPEAKER, num_utt_per_speaker, replace=False)\n",
        "            batch.append(self.specs_of_speakers[speaker][utts_idx])\n",
        "        batch = np.concatenate(batch)\n",
        "\n",
        "        Y = np.zeros(batch.shape[0]) # dummy\n",
        "\n",
        "        return batch,Y\n",
        "    \n",
        "    \n",
        "    def train_generator(self):\n",
        "        while True:\n",
        "            yield self.get_batch()"
      ],
      "metadata": {
        "id": "f1r8mXZTIgdy"
      },
      "id": "f1r8mXZTIgdy",
      "execution_count": null,
      "outputs": []
    },
    {
      "cell_type": "code",
      "execution_count": null,
      "id": "25305ca6",
      "metadata": {
        "id": "25305ca6"
      },
      "outputs": [],
      "source": [
        "def get_batcher(batcher_name, data_path):\n",
        "    if batcher_name=='naive_batcher': return naive_batcher(data_path)\n",
        "    elif batcher_name=='simMat_batcher': return simMat_batcher(data_path)\n",
        "    \n",
        "    "
      ]
    },
    {
      "cell_type": "code",
      "execution_count": null,
      "id": "b1895581",
      "metadata": {
        "id": "b1895581"
      },
      "outputs": [],
      "source": []
    },
    {
      "cell_type": "code",
      "execution_count": null,
      "id": "cb4d3833",
      "metadata": {
        "id": "cb4d3833"
      },
      "outputs": [],
      "source": []
    },
    {
      "cell_type": "code",
      "execution_count": null,
      "id": "3cb7d8ee",
      "metadata": {
        "id": "3cb7d8ee",
        "outputId": "bcff57f4-232b-4164-e1dc-27df114a190e"
      },
      "outputs": [
        {
          "name": "stdout",
          "output_type": "stream",
          "text": [
            "number of speakers who has more than minimun: 167\n",
            "total generated shape: (1000, 25, 128, 128, 1)\n",
            "dummy Y shape: (1000, 25)\n"
          ]
        },
        {
          "data": {
            "text/plain": [
              "<__main__.simMat_batcher at 0x1adc5592520>"
            ]
          },
          "execution_count": 9,
          "metadata": {},
          "output_type": "execute_result"
        }
      ],
      "source": [
        "#simMat_batcher('C:/Users/LeeJunghun/Desktop/lingometer/data/NIKL_DIALOGUE_2020_PCM_v1.2_part1/NIKL_DIALOGUE_2020_PCM_v1.2_part1/npy/traintest','C:/Users/LeeJunghun/Desktop/lingometer/data/NIKL_DIALOGUE_2020_PCM_v1.2_part1/NIKL_DIALOGUE_2020_PCM_v1.2_part1/simMat_batcher')"
      ]
    }
  ],
  "metadata": {
    "colab": {
      "provenance": [],
      "collapsed_sections": []
    },
    "kernelspec": {
      "display_name": "Python 3 (ipykernel)",
      "language": "python",
      "name": "python3"
    },
    "language_info": {
      "codemirror_mode": {
        "name": "ipython",
        "version": 3
      },
      "file_extension": ".py",
      "mimetype": "text/x-python",
      "name": "python",
      "nbconvert_exporter": "python",
      "pygments_lexer": "ipython3",
      "version": "3.9.12"
    }
  },
  "nbformat": 4,
  "nbformat_minor": 5
}